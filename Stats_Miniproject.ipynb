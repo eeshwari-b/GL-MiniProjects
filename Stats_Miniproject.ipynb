{
 "cells": [
  {
   "cell_type": "code",
   "execution_count": 1,
   "metadata": {},
   "outputs": [],
   "source": [
    "#importing libraries\n",
    "import numpy as np\n",
    "import pandas as pd\n",
    "import seaborn as sns\n",
    "import matplotlib.pyplot as plt\n"
   ]
  },
  {
   "cell_type": "markdown",
   "metadata": {},
   "source": [
    "1. You were recently hired as a business analyst in a top sports company. The senior management team has asked you to come up with metrics with which they can gauge which team will win the upcoming La Liga cup (Football tournament). The given data set contains information on all the teams that have so far participated in all the past tournaments. It has data about how many goals each team scored, conceded; how many times they came within the first 6 positions, how many seasons they have qualified, their best position in the past, etc. You are required to do the following:\n",
    "\n",
    "   Before doing any analysis it would be a good idea to check for any hypens or other symbols the data set and make appropriate replacements to make sure you can perform arithmetic operations on the data. Prepare a short report to answer the following questions:\n",
    "\n",
    "1.Which are the teams which started playing between 1930-1980?\n",
    "\n",
    "2.Which are the top 5 teams in terms of points?\n",
    "\n",
    "3.What is the distribution of the winning percentage for all teams? Which teams are in the top 5 in terms of winning percentage? (Winning percentage= (GamesWon / GamesPlayed)*100)\n",
    "\n",
    "4.Is there a significant difference in the winning percentage for teams which have attained a best position between 1-3 and those teams which have had a best position between 4-7."
   ]
  },
  {
   "cell_type": "code",
   "execution_count": 3,
   "metadata": {},
   "outputs": [
    {
     "data": {
      "text/html": [
       "<div>\n",
       "<style scoped>\n",
       "    .dataframe tbody tr th:only-of-type {\n",
       "        vertical-align: middle;\n",
       "    }\n",
       "\n",
       "    .dataframe tbody tr th {\n",
       "        vertical-align: top;\n",
       "    }\n",
       "\n",
       "    .dataframe thead th {\n",
       "        text-align: right;\n",
       "    }\n",
       "</style>\n",
       "<table border=\"1\" class=\"dataframe\">\n",
       "  <thead>\n",
       "    <tr style=\"text-align: right;\">\n",
       "      <th></th>\n",
       "      <th>Pos</th>\n",
       "      <th>Team</th>\n",
       "      <th>Seasons</th>\n",
       "      <th>Points</th>\n",
       "      <th>GamesPlayed</th>\n",
       "      <th>GamesWon</th>\n",
       "      <th>GamesDrawn</th>\n",
       "      <th>GamesLost</th>\n",
       "      <th>GoalsFor</th>\n",
       "      <th>GoalsAgainst</th>\n",
       "      <th>Champion</th>\n",
       "      <th>Runner-up</th>\n",
       "      <th>Third</th>\n",
       "      <th>Fourth</th>\n",
       "      <th>Fifth</th>\n",
       "      <th>Sixth</th>\n",
       "      <th>T</th>\n",
       "      <th>Debut</th>\n",
       "      <th>Since/LastApp</th>\n",
       "      <th>BestPosition</th>\n",
       "    </tr>\n",
       "  </thead>\n",
       "  <tbody>\n",
       "    <tr>\n",
       "      <td>2</td>\n",
       "      <td>1</td>\n",
       "      <td>Real Madrid</td>\n",
       "      <td>86</td>\n",
       "      <td>4385</td>\n",
       "      <td>2762</td>\n",
       "      <td>1647</td>\n",
       "      <td>552</td>\n",
       "      <td>563</td>\n",
       "      <td>5947</td>\n",
       "      <td>3140</td>\n",
       "      <td>33</td>\n",
       "      <td>23</td>\n",
       "      <td>8</td>\n",
       "      <td>8</td>\n",
       "      <td>3</td>\n",
       "      <td>4</td>\n",
       "      <td>79</td>\n",
       "      <td>1929</td>\n",
       "      <td>1929</td>\n",
       "      <td>1</td>\n",
       "    </tr>\n",
       "    <tr>\n",
       "      <td>3</td>\n",
       "      <td>2</td>\n",
       "      <td>Barcelona</td>\n",
       "      <td>86</td>\n",
       "      <td>4262</td>\n",
       "      <td>2762</td>\n",
       "      <td>1581</td>\n",
       "      <td>573</td>\n",
       "      <td>608</td>\n",
       "      <td>5900</td>\n",
       "      <td>3114</td>\n",
       "      <td>25</td>\n",
       "      <td>25</td>\n",
       "      <td>12</td>\n",
       "      <td>12</td>\n",
       "      <td>4</td>\n",
       "      <td>6</td>\n",
       "      <td>83</td>\n",
       "      <td>1929</td>\n",
       "      <td>1929</td>\n",
       "      <td>1</td>\n",
       "    </tr>\n",
       "    <tr>\n",
       "      <td>4</td>\n",
       "      <td>3</td>\n",
       "      <td>Atletico Madrid</td>\n",
       "      <td>80</td>\n",
       "      <td>3442</td>\n",
       "      <td>2614</td>\n",
       "      <td>1241</td>\n",
       "      <td>598</td>\n",
       "      <td>775</td>\n",
       "      <td>4534</td>\n",
       "      <td>3309</td>\n",
       "      <td>10</td>\n",
       "      <td>8</td>\n",
       "      <td>16</td>\n",
       "      <td>9</td>\n",
       "      <td>7</td>\n",
       "      <td>6</td>\n",
       "      <td>56</td>\n",
       "      <td>1929</td>\n",
       "      <td>2002-03</td>\n",
       "      <td>1</td>\n",
       "    </tr>\n",
       "    <tr>\n",
       "      <td>5</td>\n",
       "      <td>4</td>\n",
       "      <td>Valencia</td>\n",
       "      <td>82</td>\n",
       "      <td>3386</td>\n",
       "      <td>2664</td>\n",
       "      <td>1187</td>\n",
       "      <td>616</td>\n",
       "      <td>861</td>\n",
       "      <td>4398</td>\n",
       "      <td>3469</td>\n",
       "      <td>6</td>\n",
       "      <td>6</td>\n",
       "      <td>10</td>\n",
       "      <td>11</td>\n",
       "      <td>10</td>\n",
       "      <td>7</td>\n",
       "      <td>50</td>\n",
       "      <td>1931-32</td>\n",
       "      <td>1987-88</td>\n",
       "      <td>1</td>\n",
       "    </tr>\n",
       "    <tr>\n",
       "      <td>6</td>\n",
       "      <td>5</td>\n",
       "      <td>Athletic Bilbao</td>\n",
       "      <td>86</td>\n",
       "      <td>3368</td>\n",
       "      <td>2762</td>\n",
       "      <td>1209</td>\n",
       "      <td>633</td>\n",
       "      <td>920</td>\n",
       "      <td>4631</td>\n",
       "      <td>3700</td>\n",
       "      <td>8</td>\n",
       "      <td>7</td>\n",
       "      <td>10</td>\n",
       "      <td>5</td>\n",
       "      <td>8</td>\n",
       "      <td>10</td>\n",
       "      <td>49</td>\n",
       "      <td>1929</td>\n",
       "      <td>1929</td>\n",
       "      <td>1</td>\n",
       "    </tr>\n",
       "  </tbody>\n",
       "</table>\n",
       "</div>"
      ],
      "text/plain": [
       "  Pos             Team Seasons Points GamesPlayed GamesWon GamesDrawn  \\\n",
       "2   1      Real Madrid      86   4385        2762     1647        552   \n",
       "3   2        Barcelona      86   4262        2762     1581        573   \n",
       "4   3  Atletico Madrid      80   3442        2614     1241        598   \n",
       "5   4         Valencia      82   3386        2664     1187        616   \n",
       "6   5  Athletic Bilbao      86   3368        2762     1209        633   \n",
       "\n",
       "  GamesLost GoalsFor GoalsAgainst Champion Runner-up Third Fourth Fifth Sixth  \\\n",
       "2       563     5947         3140       33        23     8      8     3     4   \n",
       "3       608     5900         3114       25        25    12     12     4     6   \n",
       "4       775     4534         3309       10         8    16      9     7     6   \n",
       "5       861     4398         3469        6         6    10     11    10     7   \n",
       "6       920     4631         3700        8         7    10      5     8    10   \n",
       "\n",
       "    T    Debut Since/LastApp BestPosition  \n",
       "2  79     1929          1929            1  \n",
       "3  83     1929          1929            1  \n",
       "4  56     1929       2002-03            1  \n",
       "5  50  1931-32       1987-88            1  \n",
       "6  49     1929          1929            1  "
      ]
     },
     "execution_count": 3,
     "metadata": {},
     "output_type": "execute_result"
    }
   ],
   "source": [
    "#importing dataset and assign column names\n",
    "columns=['Pos','Team','Seasons','Points','GamesPlayed','GamesWon','GamesDrawn','GamesLost','GoalsFor','GoalsAgainst','Champion','Runner-up','Third','Fourth','Fifth','Sixth','T',\n",
    "         \n",
    "         'Debut','Since/LastApp','BestPosition']\n",
    "lal=pd.read_csv('C:/Users/Eeshwari/Desktop/GreatLearning/Laliga.csv',names=columns)\n",
    "game=lal.drop(lal.index[[0,1]]) #droping first row\n",
    "game.head()\n"
   ]
  },
  {
   "cell_type": "code",
   "execution_count": 4,
   "metadata": {},
   "outputs": [
    {
     "data": {
      "text/plain": [
       "(61, 20)"
      ]
     },
     "execution_count": 4,
     "metadata": {},
     "output_type": "execute_result"
    }
   ],
   "source": [
    "game.shape"
   ]
  },
  {
   "cell_type": "code",
   "execution_count": 5,
   "metadata": {},
   "outputs": [
    {
     "name": "stdout",
     "output_type": "stream",
     "text": [
      "Number of them started between 1930-1980 are: 37 teams\n"
     ]
    }
   ],
   "source": [
    "# 1.Which are the teams which started playing between 1930-1980?\n",
    "\n",
    "s=game['Debut'].astype(str).str[:4].astype('int', copy=True, errors= 'ignore')\n",
    "\n",
    "b=s.between(1930, 1980)\n",
    "print('Number of them started between 1930-1980 are:',game[b].shape[0],'teams')"
   ]
  },
  {
   "cell_type": "code",
   "execution_count": 6,
   "metadata": {},
   "outputs": [
    {
     "name": "stdout",
     "output_type": "stream",
     "text": [
      "Top 5 teams in terms of points:\n",
      "\n",
      "            Team Points\n",
      "22   Villarreal    970\n",
      "47  Real Burgos     96\n",
      "48    Gimnastic     91\n",
      "49  Extremadura     83\n",
      "50       Merida     81\n"
     ]
    }
   ],
   "source": [
    "# 2.Which are the top 5 teams in terms of points?\n",
    "df=game.sort_values(by='Points',ascending=False).head(5)\n",
    "\n",
    "print('Top 5 teams in terms of points:\\n\\n',df[['Team','Points']])"
   ]
  },
  {
   "cell_type": "code",
   "execution_count": 7,
   "metadata": {},
   "outputs": [
    {
     "data": {
      "text/plain": [
       "GamesPlayed    0\n",
       "GamesWon       0\n",
       "dtype: int64"
      ]
     },
     "execution_count": 7,
     "metadata": {},
     "output_type": "execute_result"
    }
   ],
   "source": [
    "game[['GamesPlayed','GamesWon']].isnull().sum()#checking for null values "
   ]
  },
  {
   "cell_type": "code",
   "execution_count": 8,
   "metadata": {},
   "outputs": [
    {
     "data": {
      "text/plain": [
       "array(['1647', '1581', '1241', '1187', '1209', '990', '948', '864', '698',\n",
       "       '606', '563', '586', '463', '453', '471', '426', '390', '408',\n",
       "       '333', '367', '266', '218', '189', '203', '147', '184', '155',\n",
       "       '145', '125', '113', '123', '129', '104', '96', '103', '76', '62',\n",
       "       '82', '52', '50', '59', '53', '37', '35', '43', '26', '34', '20',\n",
       "       '19', '30', '29', '21', '17', '18', '13', '8', '8', '7', '7', '5',\n",
       "       '-'], dtype=object)"
      ]
     },
     "execution_count": 8,
     "metadata": {},
     "output_type": "execute_result"
    }
   ],
   "source": [
    "game.GamesWon.values"
   ]
  },
  {
   "cell_type": "code",
   "execution_count": 10,
   "metadata": {},
   "outputs": [],
   "source": [
    "#replacing Nan and special characters\n",
    "game['GamesPlayed'].replace('-','0',inplace=True)\n"
   ]
  },
  {
   "cell_type": "code",
   "execution_count": 11,
   "metadata": {},
   "outputs": [],
   "source": [
    "game['GamesWon'].replace('-','0',inplace=True)"
   ]
  },
  {
   "cell_type": "code",
   "execution_count": 12,
   "metadata": {},
   "outputs": [],
   "source": [
    "game['GamesPlayed']=game['GamesPlayed'].astype(int)\n",
    "game['GamesWon']=game['GamesWon'].astype(int)"
   ]
  },
  {
   "cell_type": "code",
   "execution_count": 13,
   "metadata": {},
   "outputs": [
    {
     "name": "stdout",
     "output_type": "stream",
     "text": [
      "<class 'pandas.core.frame.DataFrame'>\n",
      "Int64Index: 61 entries, 2 to 62\n",
      "Data columns (total 20 columns):\n",
      "Pos              61 non-null object\n",
      "Team             61 non-null object\n",
      "Seasons          61 non-null object\n",
      "Points           61 non-null object\n",
      "GamesPlayed      61 non-null int32\n",
      "GamesWon         61 non-null int32\n",
      "GamesDrawn       61 non-null object\n",
      "GamesLost        61 non-null object\n",
      "GoalsFor         61 non-null object\n",
      "GoalsAgainst     61 non-null object\n",
      "Champion         61 non-null object\n",
      "Runner-up        61 non-null object\n",
      "Third            61 non-null object\n",
      "Fourth           61 non-null object\n",
      "Fifth            61 non-null object\n",
      "Sixth            61 non-null object\n",
      "T                61 non-null object\n",
      "Debut            61 non-null object\n",
      "Since/LastApp    61 non-null object\n",
      "BestPosition     61 non-null object\n",
      "dtypes: int32(2), object(18)\n",
      "memory usage: 9.5+ KB\n"
     ]
    }
   ],
   "source": [
    "game.info()"
   ]
  },
  {
   "cell_type": "code",
   "execution_count": 14,
   "metadata": {},
   "outputs": [
    {
     "data": {
      "text/html": [
       "<div>\n",
       "<style scoped>\n",
       "    .dataframe tbody tr th:only-of-type {\n",
       "        vertical-align: middle;\n",
       "    }\n",
       "\n",
       "    .dataframe tbody tr th {\n",
       "        vertical-align: top;\n",
       "    }\n",
       "\n",
       "    .dataframe thead th {\n",
       "        text-align: right;\n",
       "    }\n",
       "</style>\n",
       "<table border=\"1\" class=\"dataframe\">\n",
       "  <thead>\n",
       "    <tr style=\"text-align: right;\">\n",
       "      <th></th>\n",
       "      <th>Pos</th>\n",
       "      <th>Team</th>\n",
       "      <th>Seasons</th>\n",
       "      <th>Points</th>\n",
       "      <th>GamesPlayed</th>\n",
       "      <th>GamesWon</th>\n",
       "      <th>GamesDrawn</th>\n",
       "      <th>GamesLost</th>\n",
       "      <th>GoalsFor</th>\n",
       "      <th>GoalsAgainst</th>\n",
       "      <th>...</th>\n",
       "      <th>Runner-up</th>\n",
       "      <th>Third</th>\n",
       "      <th>Fourth</th>\n",
       "      <th>Fifth</th>\n",
       "      <th>Sixth</th>\n",
       "      <th>T</th>\n",
       "      <th>Debut</th>\n",
       "      <th>Since/LastApp</th>\n",
       "      <th>BestPosition</th>\n",
       "      <th>Winning_percent</th>\n",
       "    </tr>\n",
       "  </thead>\n",
       "  <tbody>\n",
       "    <tr>\n",
       "      <td>2</td>\n",
       "      <td>1</td>\n",
       "      <td>Real Madrid</td>\n",
       "      <td>86</td>\n",
       "      <td>4385</td>\n",
       "      <td>2762</td>\n",
       "      <td>1647</td>\n",
       "      <td>552</td>\n",
       "      <td>563</td>\n",
       "      <td>5947</td>\n",
       "      <td>3140</td>\n",
       "      <td>...</td>\n",
       "      <td>23</td>\n",
       "      <td>8</td>\n",
       "      <td>8</td>\n",
       "      <td>3</td>\n",
       "      <td>4</td>\n",
       "      <td>79</td>\n",
       "      <td>1929</td>\n",
       "      <td>1929</td>\n",
       "      <td>1</td>\n",
       "      <td>0.596307</td>\n",
       "    </tr>\n",
       "    <tr>\n",
       "      <td>3</td>\n",
       "      <td>2</td>\n",
       "      <td>Barcelona</td>\n",
       "      <td>86</td>\n",
       "      <td>4262</td>\n",
       "      <td>2762</td>\n",
       "      <td>1581</td>\n",
       "      <td>573</td>\n",
       "      <td>608</td>\n",
       "      <td>5900</td>\n",
       "      <td>3114</td>\n",
       "      <td>...</td>\n",
       "      <td>25</td>\n",
       "      <td>12</td>\n",
       "      <td>12</td>\n",
       "      <td>4</td>\n",
       "      <td>6</td>\n",
       "      <td>83</td>\n",
       "      <td>1929</td>\n",
       "      <td>1929</td>\n",
       "      <td>1</td>\n",
       "      <td>0.572411</td>\n",
       "    </tr>\n",
       "    <tr>\n",
       "      <td>4</td>\n",
       "      <td>3</td>\n",
       "      <td>Atletico Madrid</td>\n",
       "      <td>80</td>\n",
       "      <td>3442</td>\n",
       "      <td>2614</td>\n",
       "      <td>1241</td>\n",
       "      <td>598</td>\n",
       "      <td>775</td>\n",
       "      <td>4534</td>\n",
       "      <td>3309</td>\n",
       "      <td>...</td>\n",
       "      <td>8</td>\n",
       "      <td>16</td>\n",
       "      <td>9</td>\n",
       "      <td>7</td>\n",
       "      <td>6</td>\n",
       "      <td>56</td>\n",
       "      <td>1929</td>\n",
       "      <td>2002-03</td>\n",
       "      <td>1</td>\n",
       "      <td>0.474751</td>\n",
       "    </tr>\n",
       "    <tr>\n",
       "      <td>5</td>\n",
       "      <td>4</td>\n",
       "      <td>Valencia</td>\n",
       "      <td>82</td>\n",
       "      <td>3386</td>\n",
       "      <td>2664</td>\n",
       "      <td>1187</td>\n",
       "      <td>616</td>\n",
       "      <td>861</td>\n",
       "      <td>4398</td>\n",
       "      <td>3469</td>\n",
       "      <td>...</td>\n",
       "      <td>6</td>\n",
       "      <td>10</td>\n",
       "      <td>11</td>\n",
       "      <td>10</td>\n",
       "      <td>7</td>\n",
       "      <td>50</td>\n",
       "      <td>1931-32</td>\n",
       "      <td>1987-88</td>\n",
       "      <td>1</td>\n",
       "      <td>0.445571</td>\n",
       "    </tr>\n",
       "    <tr>\n",
       "      <td>6</td>\n",
       "      <td>5</td>\n",
       "      <td>Athletic Bilbao</td>\n",
       "      <td>86</td>\n",
       "      <td>3368</td>\n",
       "      <td>2762</td>\n",
       "      <td>1209</td>\n",
       "      <td>633</td>\n",
       "      <td>920</td>\n",
       "      <td>4631</td>\n",
       "      <td>3700</td>\n",
       "      <td>...</td>\n",
       "      <td>7</td>\n",
       "      <td>10</td>\n",
       "      <td>5</td>\n",
       "      <td>8</td>\n",
       "      <td>10</td>\n",
       "      <td>49</td>\n",
       "      <td>1929</td>\n",
       "      <td>1929</td>\n",
       "      <td>1</td>\n",
       "      <td>0.437726</td>\n",
       "    </tr>\n",
       "  </tbody>\n",
       "</table>\n",
       "<p>5 rows × 21 columns</p>\n",
       "</div>"
      ],
      "text/plain": [
       "  Pos             Team Seasons Points  GamesPlayed  GamesWon GamesDrawn  \\\n",
       "2   1      Real Madrid      86   4385         2762      1647        552   \n",
       "3   2        Barcelona      86   4262         2762      1581        573   \n",
       "4   3  Atletico Madrid      80   3442         2614      1241        598   \n",
       "5   4         Valencia      82   3386         2664      1187        616   \n",
       "6   5  Athletic Bilbao      86   3368         2762      1209        633   \n",
       "\n",
       "  GamesLost GoalsFor GoalsAgainst  ... Runner-up Third Fourth Fifth Sixth   T  \\\n",
       "2       563     5947         3140  ...        23     8      8     3     4  79   \n",
       "3       608     5900         3114  ...        25    12     12     4     6  83   \n",
       "4       775     4534         3309  ...         8    16      9     7     6  56   \n",
       "5       861     4398         3469  ...         6    10     11    10     7  50   \n",
       "6       920     4631         3700  ...         7    10      5     8    10  49   \n",
       "\n",
       "     Debut Since/LastApp BestPosition Winning_percent  \n",
       "2     1929          1929            1        0.596307  \n",
       "3     1929          1929            1        0.572411  \n",
       "4     1929       2002-03            1        0.474751  \n",
       "5  1931-32       1987-88            1        0.445571  \n",
       "6     1929          1929            1        0.437726  \n",
       "\n",
       "[5 rows x 21 columns]"
      ]
     },
     "execution_count": 14,
     "metadata": {},
     "output_type": "execute_result"
    }
   ],
   "source": [
    "# 3.What is the distribution of the winning percentage for all teams?\n",
    "# Which teams are in the top 5 in terms of winning percentage? (Winning percentage= (GamesWon / GamesPlayed)*100)\n",
    "\n",
    "\n",
    " \n",
    "game['Winning_percent']=((game['GamesWon'])/(game['GamesPlayed']))\n",
    "game.head()"
   ]
  },
  {
   "cell_type": "markdown",
   "metadata": {},
   "source": [
    "2. A study was done to measure the blood pressure of 60 year old women with glaucoma. A random sample of 200 60-year old women with glaucoma was chosen. The mean of the systolic blood pressure in the sample was 140 mm Hg and the standard deviation was 25 mm Hg.\n",
    "\n",
    "a)Calculate the estimated standard error of the sample mean? What does the standard error indicate?\n",
    "b)Estimate a 95% confidence interval for the true mean blood pressure for all 60-year old women with glaucoma.\n",
    "\n",
    "\n"
   ]
  },
  {
   "cell_type": "code",
   "execution_count": 15,
   "metadata": {},
   "outputs": [
    {
     "data": {
      "text/plain": [
       "array([61, 62, 63, 64, 62, 61, 62, 60, 64, 61, 62, 60, 61, 61, 61, 62, 63,\n",
       "       63, 63, 64, 63, 62, 61, 62, 62, 64, 63, 60, 60, 62, 64, 61, 62, 62,\n",
       "       62, 60, 61, 64, 61, 60, 60, 61, 60, 64, 64, 60, 60, 61, 61, 61, 63,\n",
       "       60, 60, 62, 62, 61, 62, 64, 62, 63, 63, 63, 64, 60, 60, 64, 62, 62,\n",
       "       60, 60, 62, 61, 61, 63, 62, 60, 61, 60, 64, 64, 60, 61, 63, 63, 62,\n",
       "       61, 61, 63, 62, 61, 64, 61, 64, 64, 61, 62, 64, 61, 62, 62, 64, 60,\n",
       "       63, 61, 62, 62, 64, 60, 62, 60, 60, 62, 62, 60, 64, 61, 60, 61, 61,\n",
       "       64, 64, 61, 62, 61, 60, 62, 62, 64, 64, 61, 60, 61, 63, 62, 61, 61,\n",
       "       60, 62, 61, 64, 60, 61, 64, 62, 62, 60, 62, 62, 60, 63, 63, 63, 61,\n",
       "       64, 61, 61, 64, 62, 60, 61, 64, 63, 62, 64, 60, 64, 61, 61, 60, 64,\n",
       "       64, 64, 61, 64, 60, 61, 62, 61, 63, 64, 64, 62, 64, 62, 60, 62, 63,\n",
       "       64, 63, 63, 62, 64, 61, 61, 62, 62, 60, 63, 60, 60])"
      ]
     },
     "execution_count": 15,
     "metadata": {},
     "output_type": "execute_result"
    }
   ],
   "source": [
    "bp=np.random.randint(60,65,size=200)#200sample; taking age between 60-65\n",
    "bp#random sample"
   ]
  },
  {
   "cell_type": "code",
   "execution_count": 16,
   "metadata": {},
   "outputs": [
    {
     "data": {
      "text/plain": [
       "0.09858228713457311"
      ]
     },
     "execution_count": 16,
     "metadata": {},
     "output_type": "execute_result"
    }
   ],
   "source": [
    "xbar=140#mean\n",
    "sd=25\n",
    "\n",
    "from scipy import stats\n",
    "stats.sem(bp)#standard error\n"
   ]
  },
  {
   "cell_type": "markdown",
   "metadata": {},
   "source": [
    "The standard error of the mean is the standard deviation of the sampling distribution of the mean.\n"
   ]
  },
  {
   "cell_type": "code",
   "execution_count": 17,
   "metadata": {},
   "outputs": [
    {
     "data": {
      "text/plain": [
       "(136.5352404391258, 143.4647595608742)"
      ]
     },
     "execution_count": 17,
     "metadata": {},
     "output_type": "execute_result"
    }
   ],
   "source": [
    "se=25/np.sqrt(200) \n",
    "\n",
    "#confidence interval\n",
    "\n",
    "stats.norm.interval(0.95,loc=140,scale=se)"
   ]
  },
  {
   "cell_type": "code",
   "execution_count": 18,
   "metadata": {},
   "outputs": [],
   "source": [
    "# stats.norm.isf(0.95,loc=140,scale=se)\n",
    "# stats.norm.isf(0.05,loc=140,scale=se)"
   ]
  },
  {
   "cell_type": "markdown",
   "metadata": {},
   "source": [
    "c)Assume that instead of 200, a random sample of only 100 60-year old women with glaucoma was chosen. The sample mean and standard deviation estimates are the same as those in the original study. What is the estimated 95% confidence interval for the true mean blood pressure?"
   ]
  },
  {
   "cell_type": "code",
   "execution_count": 19,
   "metadata": {},
   "outputs": [
    {
     "data": {
      "text/plain": [
       "(135.10009003864985, 144.89990996135015)"
      ]
     },
     "execution_count": 19,
     "metadata": {},
     "output_type": "execute_result"
    }
   ],
   "source": [
    "se=25/np.sqrt(100)\n",
    "stats.norm.interval(0.95,loc=140,scale=se)"
   ]
  },
  {
   "cell_type": "markdown",
   "metadata": {},
   "source": [
    "d)Which of the two above intervals are wider?\n",
    "\n",
    "#### When the Sample size has decreased the interval got wider that indicates the scope became higher.\n",
    "\n",
    "e)Explain in non-technical terms why the estimated standard error of a sample mean tends to decrease with an increase in sample size.\n",
    "\n",
    "#### The size of a  sample affects the standard error for that sample. Because it is inversely proportional in the standard error formula, the standard error decreases as sample size increases. So having more data gives less variation and more precision in our results.\n"
   ]
  },
  {
   "cell_type": "markdown",
   "metadata": {},
   "source": [
    "1. Formulate and present the rationale for a hypothesis test that Par could use to compare the driving distances of the current and new golf balls.\n",
    "2. Analyze the data to provide the hypothesis testing conclusion. What is the p-value for your test? What is your recommendation for Par Inc.?\n",
    "3. What is the 95% confidence interval for the population mean of each model, and what is the 95% confidence interval for the difference between the means of the two population?"
   ]
  },
  {
   "cell_type": "code",
   "execution_count": 20,
   "metadata": {},
   "outputs": [],
   "source": [
    "from scipy.stats import ttest_1samp,ttest_ind,levene,shapiro,iqr,mannwhitneyu,wilcoxon,iqr\n",
    "from statsmodels.stats.power import ttest_power\n",
    "import scipy.stats as stats"
   ]
  },
  {
   "cell_type": "code",
   "execution_count": 21,
   "metadata": {},
   "outputs": [],
   "source": [
    "golf=pd.read_csv('C:/Users/Eeshwari/Desktop/GreatLearning/Golf.csv')"
   ]
  },
  {
   "cell_type": "code",
   "execution_count": 22,
   "metadata": {},
   "outputs": [
    {
     "data": {
      "image/png": "[encoded data removed]",
      "text/plain": [
       "<Figure size 432x288 with 2 Axes>"
      ]
     },
     "metadata": {
      "needs_background": "light"
     },
     "output_type": "display_data"
    }
   ],
   "source": [
    "golf.hist()\n",
    "plt.show()"
   ]
  },
  {
   "cell_type": "markdown",
   "metadata": {},
   "source": [
    "Null Hypothesis:\n",
    "\n",
    "H0:µold−µnew=0 (New coating does not have effect on driving distances)\n",
    "\n",
    "Alternate Hypothesis:\n",
    "\n",
    "H1:µold−µnew≠0 (New coating does have significant effect on driving distances)"
   ]
  },
  {
   "cell_type": "code",
   "execution_count": 23,
   "metadata": {},
   "outputs": [
    {
     "data": {
      "text/plain": [
       "Current    270.275\n",
       "New        267.500\n",
       "dtype: float64"
      ]
     },
     "execution_count": 23,
     "metadata": {},
     "output_type": "execute_result"
    }
   ],
   "source": [
    "golf.mean()\n"
   ]
  },
  {
   "cell_type": "code",
   "execution_count": 24,
   "metadata": {},
   "outputs": [
    {
     "data": {
      "text/plain": [
       "Current    8.752985\n",
       "New        9.896904\n",
       "dtype: float64"
      ]
     },
     "execution_count": 24,
     "metadata": {},
     "output_type": "execute_result"
    }
   ],
   "source": [
    "np.std(golf,ddof=1)"
   ]
  },
  {
   "cell_type": "code",
   "execution_count": 25,
   "metadata": {},
   "outputs": [
    {
     "name": "stdout",
     "output_type": "stream",
     "text": [
      "Observed sample mean\n",
      "Current    1.383968\n",
      "New        1.564838\n",
      "dtype: float64\n",
      "\n",
      "Critical Values\n",
      "[4.33181396 4.6365566 ]\n",
      "[-0.33181396 -0.6365566 ]\n",
      "\n",
      "T-Statistic\n",
      "Current    193.844741\n",
      "New        169.666126\n",
      "dtype: float64\n"
     ]
    }
   ],
   "source": [
    "mu=2\n",
    "print(\"Observed sample mean\")\n",
    "xbar= golf.mean()\n",
    "\n",
    "s=np.std(golf,ddof=1)\n",
    "n=40\n",
    "se=s/np.sqrt(n)\n",
    "print(se)\n",
    "print()\n",
    "print(\"Critical Values\")\n",
    "print(stats.t.isf(0.05,df=n-1,loc=mu,scale=se))\n",
    "print(stats.t.isf(0.95,df=n-1,loc=mu,scale=se))\n",
    "print()\n",
    "print(\"T-Statistic\")\n",
    "print((xbar-mu)/se)"
   ]
  },
  {
   "cell_type": "code",
   "execution_count": 26,
   "metadata": {},
   "outputs": [
    {
     "data": {
      "text/plain": [
       "Ttest_indResult(statistic=1.3283615935245678, pvalue=0.18793228491854663)"
      ]
     },
     "execution_count": 26,
     "metadata": {},
     "output_type": "execute_result"
    }
   ],
   "source": [
    "stats.ttest_ind(golf['Current'],golf['New'])"
   ]
  },
  {
   "cell_type": "markdown",
   "metadata": {},
   "source": [
    "Here p value is 0.188 which is greater than the 0.05.\n",
    "\n",
    "Hence, we failed to reject the Null Hypothesis.\n",
    "\n",
    "Thus, accepting the Null Hypothesis that there is no significant change in driving distances due to the new coating."
   ]
  },
  {
   "cell_type": "code",
   "execution_count": 27,
   "metadata": {},
   "outputs": [
    {
     "name": "stdout",
     "output_type": "stream",
     "text": [
      "Observed sample mean\n",
      "Current    1.383968\n",
      "New        1.564838\n",
      "dtype: float64\n",
      "\n",
      "Diff between Means of population 2.7749999999999773 \n",
      "\n",
      "Critical Values\n",
      "[4.33181396 4.6365566 ]\n",
      "[-0.33181396 -0.6365566 ]\n",
      "\n",
      "T-Statistic\n",
      "Current    0.559984\n",
      "New        0.495259\n",
      "dtype: float64\n"
     ]
    }
   ],
   "source": [
    "mu=2\n",
    "print(\"Observed sample mean\")\n",
    "xbar= golf.mean()\n",
    "\n",
    "s=np.std(golf,ddof=1)\n",
    "n=40\n",
    "se=s/np.sqrt(n)\n",
    "print(se)\n",
    "print()\n",
    "diff=xbar[0]-xbar[1]\n",
    "print('Diff between Means of population',diff,'\\n')\n",
    "print(\"Critical Values\")\n",
    "print(stats.t.isf(0.05,df=n-1,loc=mu,scale=se))\n",
    "print(stats.t.isf(0.95,df=n-1,loc=mu,scale=se))\n",
    "print()\n",
    "print(\"T-Statistic\")\n",
    "print((diff-mu)/se)\n"
   ]
  },
  {
   "cell_type": "markdown",
   "metadata": {},
   "source": [
    "The difference in sample means is used to estimate the difference in population means. The accuracy of the estimate is revealed by a confidence interval.\n",
    "\n",
    "In order to construct a confidence interval, we are going to make three assumptions:\n",
    "\n",
    " \n",
    "\n",
    "The two populations have the same variance. This assumption is called the assumption of homogeneity of variance.\n",
    "The populations are normally distributed.\n",
    "Each value is sampled independently from each other value"
   ]
  },
  {
   "cell_type": "code",
   "execution_count": null,
   "metadata": {},
   "outputs": [],
   "source": []
  }
 ],
 "metadata": {
  "kernelspec": {
   "display_name": "Python 3",
   "language": "python",
   "name": "python3"
  },
  "language_info": {
   "codemirror_mode": {
    "name": "ipython",
    "version": 3
   },
   "file_extension": ".py",
   "mimetype": "text/x-python",
   "name": "python",
   "nbconvert_exporter": "python",
   "pygments_lexer": "ipython3",
   "version": "3.7.4"
  }
 },
 "nbformat": 4,
 "nbformat_minor": 2
}
