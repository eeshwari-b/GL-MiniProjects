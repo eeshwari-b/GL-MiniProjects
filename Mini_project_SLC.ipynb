{
 "cells": [
  {
   "cell_type": "markdown",
   "metadata": {},
   "source": [
    "Dear Participant,\n",
    "\n",
    "Parkinson’s Disease (PD) is a degenerative neurological disorder marked by decreased dopamine levels in the brain. It manifests itself through a deterioration of movement, including the presence of tremors and stiffness. There is commonly a marked effect on speech, including dysarthria (difficulty articulating sounds), hypophonia (lowered volume), and monotone (reduced pitch range). Additionally, cognitive impairments and changes in mood can occur, and risk of dementia is increased.\n",
    "\n",
    "Traditional diagnosis of Parkinson’s Disease involves a clinician taking a neurological history of the patient and observing motor skills in various situations. Since there is no definitive laboratory test to diagnose PD, diagnosis is often difficult, particularly in the early stages when motor effects are not yet severe. Monitoring progression of the disease over time requires repeated clinic visits by the patient. An effective screening process, particularly one that doesn’t require a clinic visit, would be beneficial. Since PD patients exhibit characteristic vocal features, voice recordings are a useful and non-invasive tool for diagnosis. If machine learning algorithms could be applied to a voice recording dataset to accurately diagnosis PD, this would be an effective screening step prior to an appointment with a clinician.\n",
    "\n",
    "Use the provided dataset in order to do your analysis."
   ]
  },
  {
   "cell_type": "markdown",
   "metadata": {},
   "source": [
    "#Attribute Information:\n",
    "\n",
    "#Matrix column entries (attributes):\n",
    "#name - ASCII subject name and recording number\n",
    "#MDVP:Fo(Hz) - Average vocal fundamental frequency\n",
    "#MDVP:Fhi(Hz) - Maximum vocal fundamental frequency\n",
    "#MDVP:Flo(Hz) - Minimum vocal fundamental frequency\n",
    "#MDVP:Jitter(%),MDVP:Jitter(Abs),MDVP:RAP,MDVP:PPQ,Jitter:DDP - Several \n",
    "#measures of variation in fundamental frequency\n",
    "#MDVP:Shimmer,MDVP:Shimmer(dB),Shimmer:APQ3,Shimmer:APQ5,MDVP:APQ,Shimmer:DDA - Several measures of variation in amplitude\n",
    "#NHR,HNR - Two measures of ratio of noise to tonal components in the voice\n",
    "#status - Health status of the subject (one) - Parkinson's, (zero) - healthy\n",
    "#RPDE,D2 - Two nonlinear dynamical complexity measures\n",
    "#DFA - Signal fractal scaling exponent\n",
    "#spread1,spread2,PPE - Three nonlinear measures of fundamental frequency variation"
   ]
  },
  {
   "cell_type": "code",
   "execution_count": null,
   "metadata": {},
   "outputs": [],
   "source": [
    "# Import required library\n",
    "import pandas as pd\n",
    "import seaborn as sns\n",
    "import matplotlib.pyplot as plt\n",
    "%matplotlib inline"
   ]
  },
  {
   "cell_type": "markdown",
   "metadata": {},
   "source": [
    "### Q1. Load the dataset "
   ]
  },
  {
   "cell_type": "code",
   "execution_count": null,
   "metadata": {},
   "outputs": [],
   "source": [
    "df=pd.read_csv('parkinsons.csv')\n",
    "df"
   ]
  },
  {
   "cell_type": "markdown",
   "metadata": {},
   "source": [
    "### Q2. Use the .describe() method on the dataset and state any insights you may come across."
   ]
  },
  {
   "cell_type": "code",
   "execution_count": null,
   "metadata": {},
   "outputs": [],
   "source": [
    "df.describe()"
   ]
  },
  {
   "cell_type": "markdown",
   "metadata": {},
   "source": [
    "### Q3. Check for class imbalance. Do people with Parkinson's have greater representation in the dataset?"
   ]
  },
  {
   "cell_type": "code",
   "execution_count": null,
   "metadata": {},
   "outputs": [],
   "source": [
    "df['status'].value_counts().plot(kind='bar')\n",
    "plt.show()\n",
    "print('from the graph we can see that the data is baised having Parkinsons greater representation')"
   ]
  },
  {
   "cell_type": "markdown",
   "metadata": {},
   "source": [
    "### Q4. Check for missing vaues and take necessary measures by dropping observation or imputing them."
   ]
  },
  {
   "cell_type": "code",
   "execution_count": null,
   "metadata": {},
   "outputs": [],
   "source": [
    "df.isnull().sum()"
   ]
  },
  {
   "cell_type": "markdown",
   "metadata": {},
   "source": [
    "### Q5. Plot the distribution of all the features. State any observations you can make based on the distribution plots."
   ]
  },
  {
   "cell_type": "code",
   "execution_count": null,
   "metadata": {},
   "outputs": [],
   "source": [
    "import seaborn as sns\n",
    "sns.pairplot(df)"
   ]
  },
  {
   "cell_type": "markdown",
   "metadata": {},
   "source": [
    "### Q6. Check for outliers in the data. Are there any variables with high amount of outliers."
   ]
  },
  {
   "cell_type": "code",
   "execution_count": null,
   "metadata": {},
   "outputs": [],
   "source": [
    "df.plot(kind='box')"
   ]
  },
  {
   "cell_type": "markdown",
   "metadata": {},
   "source": [
    "### Q7. Are there any strong correlations among the independent features?"
   ]
  },
  {
   "cell_type": "code",
   "execution_count": null,
   "metadata": {},
   "outputs": [],
   "source": [
    "df.corr()"
   ]
  },
  {
   "cell_type": "markdown",
   "metadata": {},
   "source": [
    "### Q8. Split dataset into training & test dataset  "
   ]
  },
  {
   "cell_type": "code",
   "execution_count": null,
   "metadata": {},
   "outputs": [],
   "source": [
    "x=df.drop(['name','status'],axis=1)\n",
    "y=df.status\n",
    "from sklearn.model_selection import train_test_split\n",
    "(train_x, test_x, train_y, test_y) = train_test_split(x,y, train_size=0.8, random_state=1)\n",
    "print(x.shape)\n",
    "print(y.shape)"
   ]
  },
  {
   "cell_type": "markdown",
   "metadata": {},
   "source": [
    "### Q9. Create a default decision tree model using criterion = Entropy "
   ]
  },
  {
   "cell_type": "code",
   "execution_count": null,
   "metadata": {},
   "outputs": [],
   "source": [
    "from sklearn.metrics import classification_report,confusion_matrix,accuracy_score\n",
    "from sklearn import tree\n",
    "from sklearn.tree import DecisionTreeClassifier \n",
    "\n",
    "dtc = DecisionTreeClassifier(criterion='entropy')\n",
    "dtc.fit(train_x, train_y)\n"
   ]
  },
  {
   "cell_type": "code",
   "execution_count": null,
   "metadata": {},
   "outputs": [],
   "source": [
    "y_pred = dtc.predict(test_x)\n",
    "\n",
    "print('\\nAccuracy: {0:.4f}'.format(accuracy_score(test_y, y_pred)))\n",
    "y_pred"
   ]
  },
  {
   "cell_type": "markdown",
   "metadata": {},
   "source": [
    "### Q10.  Use regularization parameters of max_depth, min_sample_leaf to recreate the model. What is the impact on the model accuracy? How does regularization help? "
   ]
  },
  {
   "cell_type": "code",
   "execution_count": null,
   "metadata": {},
   "outputs": [],
   "source": [
    "from scipy.stats import randint\n",
    "from sklearn.model_selection import RandomizedSearchCV \n",
    "\n",
    "\n",
    "param_dist = {\"max_depth\": [4, None], \n",
    "              \"max_features\": randint(1, 20), \n",
    "              \"min_samples_leaf\": randint(1, 15), \n",
    "              \"criterion\": [\"gini\", \"entropy\"]} \n",
    "  \n",
    "# Instantiating Decision Tree classifier \n",
    "tree = DecisionTreeClassifier() \n",
    "  \n",
    "# Instantiating RandomizedSearchCV object \n",
    "tree_cv = RandomizedSearchCV(tree, param_dist, cv = 10) \n",
    "  \n",
    "tree_cv.fit(x, y) \n",
    "  \n",
    "# Print the tuned parameters and score \n",
    "print(\"Tuned Decision Tree Parameters: {}\".format(tree_cv.best_params_)) \n",
    "print(\"Best score is {}\".format(tree_cv.best_score_)) \n",
    "print()\n",
    "print('Regularization does not improve the performance on the data set it improves the generalization performance, i.e., the performance on new, unseen data')"
   ]
  },
  {
   "cell_type": "markdown",
   "metadata": {},
   "source": [
    "### Q11. Implement a Random Forest model. What is the optimal number of trees that gives the best result?"
   ]
  },
  {
   "cell_type": "code",
   "execution_count": null,
   "metadata": {},
   "outputs": [],
   "source": [
    "from sklearn.metrics import accuracy_score\n",
    "\n",
    "from sklearn.ensemble import RandomForestClassifier\n",
    "rnd_clf = RandomForestClassifier(criterion='gini',random_state=5)\n",
    "rnd_clf.fit(train_x, train_y)"
   ]
  },
  {
   "cell_type": "code",
   "execution_count": null,
   "metadata": {},
   "outputs": [],
   "source": [
    "y_pred = rnd_clf.predict(test_x)\n",
    "y_pred"
   ]
  },
  {
   "cell_type": "code",
   "execution_count": null,
   "metadata": {},
   "outputs": [],
   "source": [
    "print('\\nAccuracy: {0:.4f}'.format(accuracy_score(test_y, y_pred)))"
   ]
  },
  {
   "cell_type": "code",
   "execution_count": null,
   "metadata": {},
   "outputs": [],
   "source": [
    "param_dist = {\"max_depth\": [4, None], \n",
    "              \"max_features\": randint(1, 20), \n",
    "              \"min_samples_leaf\": randint(1, 15), \n",
    "              \"criterion\": [ \"entropy\"]} \n",
    "  \n",
    "# Instantiating Decision Tree classifier \n",
    "tree = RandomForestClassifier(random_state=5)\n",
    "  \n",
    "# Instantiating RandomizedSearchCV object \n",
    "tree_cv = RandomizedSearchCV(tree, param_dist, cv = 10) \n",
    "  \n",
    "tree_cv.fit(x, y) \n",
    "  \n",
    "# Print the tuned parameters and score \n",
    "print(\"Tuned Decision Tree Parameters: {}\".format(tree_cv.best_params_)) \n",
    "print(\"Best score is {}\".format(tree_cv.best_score_)) \n",
    "print()"
   ]
  },
  {
   "cell_type": "code",
   "execution_count": null,
   "metadata": {},
   "outputs": [],
   "source": []
  }
 ],
 "metadata": {
  "kernelspec": {
   "display_name": "Python 3",
   "language": "python",
   "name": "python3"
  },
  "language_info": {
   "codemirror_mode": {
    "name": "ipython",
    "version": 3
   },
   "file_extension": ".py",
   "mimetype": "text/x-python",
   "name": "python",
   "nbconvert_exporter": "python",
   "pygments_lexer": "ipython3",
   "version": "3.7.4"
  }
 },
 "nbformat": 4,
 "nbformat_minor": 2
}
