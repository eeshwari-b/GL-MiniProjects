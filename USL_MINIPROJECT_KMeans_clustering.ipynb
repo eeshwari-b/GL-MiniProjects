{
 "cells": [
  {
   "cell_type": "markdown",
   "metadata": {
    "colab_type": "text",
    "id": "qu_OG92m_frE"
   },
   "source": [
    "### The data set has information about features of silhouette extracted from the images of different cars\n",
    "\n",
    "Four \"Corgie\" model vehicles were used for the experiment: a double decker bus, Cheverolet van, Saab 9000 and an Opel Manta 400 cars. This particular combination of vehicles was chosen with the expectation that the bus, van and either one of the cars would be readily distinguishable, but it would be more difficult to distinguish between the cars.\n",
    "\n"
   ]
  },
  {
   "cell_type": "markdown",
   "metadata": {
    "colab_type": "text",
    "id": "h2Vv5KVp_frG"
   },
   "source": [
    "### 1. Read the dataset using function .dropna() - to avoid dealing with NAs as of now"
   ]
  },
  {
   "cell_type": "code",
   "execution_count": 56,
   "metadata": {
    "colab": {},
    "colab_type": "code",
    "id": "CB0MG7S7_frW",
    "outputId": "cf98a031-e018-4cf2-d0b2-99aeaf34cd64"
   },
   "outputs": [
    {
     "data": {
      "text/html": [
       "<div>\n",
       "<style scoped>\n",
       "    .dataframe tbody tr th:only-of-type {\n",
       "        vertical-align: middle;\n",
       "    }\n",
       "\n",
       "    .dataframe tbody tr th {\n",
       "        vertical-align: top;\n",
       "    }\n",
       "\n",
       "    .dataframe thead th {\n",
       "        text-align: right;\n",
       "    }\n",
       "</style>\n",
       "<table border=\"1\" class=\"dataframe\">\n",
       "  <thead>\n",
       "    <tr style=\"text-align: right;\">\n",
       "      <th></th>\n",
       "      <th>compactness</th>\n",
       "      <th>circularity</th>\n",
       "      <th>distance_circularity</th>\n",
       "      <th>radius_ratio</th>\n",
       "      <th>pr.axis_aspect_ratio</th>\n",
       "      <th>max.length_aspect_ratio</th>\n",
       "      <th>scatter_ratio</th>\n",
       "      <th>elongatedness</th>\n",
       "      <th>pr.axis_rectangularity</th>\n",
       "      <th>max.length_rectangularity</th>\n",
       "      <th>scaled_variance</th>\n",
       "      <th>scaled_variance.1</th>\n",
       "      <th>scaled_radius_of_gyration</th>\n",
       "      <th>scaled_radius_of_gyration.1</th>\n",
       "      <th>skewness_about</th>\n",
       "      <th>skewness_about.1</th>\n",
       "      <th>skewness_about.2</th>\n",
       "      <th>hollows_ratio</th>\n",
       "      <th>class</th>\n",
       "    </tr>\n",
       "  </thead>\n",
       "  <tbody>\n",
       "    <tr>\n",
       "      <td>0</td>\n",
       "      <td>95</td>\n",
       "      <td>48.0</td>\n",
       "      <td>83.0</td>\n",
       "      <td>178.0</td>\n",
       "      <td>72.0</td>\n",
       "      <td>10</td>\n",
       "      <td>162.0</td>\n",
       "      <td>42.0</td>\n",
       "      <td>20.0</td>\n",
       "      <td>159</td>\n",
       "      <td>176.0</td>\n",
       "      <td>379.0</td>\n",
       "      <td>184.0</td>\n",
       "      <td>70.0</td>\n",
       "      <td>6.0</td>\n",
       "      <td>16.0</td>\n",
       "      <td>187.0</td>\n",
       "      <td>197</td>\n",
       "      <td>van</td>\n",
       "    </tr>\n",
       "    <tr>\n",
       "      <td>1</td>\n",
       "      <td>91</td>\n",
       "      <td>41.0</td>\n",
       "      <td>84.0</td>\n",
       "      <td>141.0</td>\n",
       "      <td>57.0</td>\n",
       "      <td>9</td>\n",
       "      <td>149.0</td>\n",
       "      <td>45.0</td>\n",
       "      <td>19.0</td>\n",
       "      <td>143</td>\n",
       "      <td>170.0</td>\n",
       "      <td>330.0</td>\n",
       "      <td>158.0</td>\n",
       "      <td>72.0</td>\n",
       "      <td>9.0</td>\n",
       "      <td>14.0</td>\n",
       "      <td>189.0</td>\n",
       "      <td>199</td>\n",
       "      <td>van</td>\n",
       "    </tr>\n",
       "    <tr>\n",
       "      <td>2</td>\n",
       "      <td>104</td>\n",
       "      <td>50.0</td>\n",
       "      <td>106.0</td>\n",
       "      <td>209.0</td>\n",
       "      <td>66.0</td>\n",
       "      <td>10</td>\n",
       "      <td>207.0</td>\n",
       "      <td>32.0</td>\n",
       "      <td>23.0</td>\n",
       "      <td>158</td>\n",
       "      <td>223.0</td>\n",
       "      <td>635.0</td>\n",
       "      <td>220.0</td>\n",
       "      <td>73.0</td>\n",
       "      <td>14.0</td>\n",
       "      <td>9.0</td>\n",
       "      <td>188.0</td>\n",
       "      <td>196</td>\n",
       "      <td>car</td>\n",
       "    </tr>\n",
       "    <tr>\n",
       "      <td>3</td>\n",
       "      <td>93</td>\n",
       "      <td>41.0</td>\n",
       "      <td>82.0</td>\n",
       "      <td>159.0</td>\n",
       "      <td>63.0</td>\n",
       "      <td>9</td>\n",
       "      <td>144.0</td>\n",
       "      <td>46.0</td>\n",
       "      <td>19.0</td>\n",
       "      <td>143</td>\n",
       "      <td>160.0</td>\n",
       "      <td>309.0</td>\n",
       "      <td>127.0</td>\n",
       "      <td>63.0</td>\n",
       "      <td>6.0</td>\n",
       "      <td>10.0</td>\n",
       "      <td>199.0</td>\n",
       "      <td>207</td>\n",
       "      <td>van</td>\n",
       "    </tr>\n",
       "    <tr>\n",
       "      <td>4</td>\n",
       "      <td>85</td>\n",
       "      <td>44.0</td>\n",
       "      <td>70.0</td>\n",
       "      <td>205.0</td>\n",
       "      <td>103.0</td>\n",
       "      <td>52</td>\n",
       "      <td>149.0</td>\n",
       "      <td>45.0</td>\n",
       "      <td>19.0</td>\n",
       "      <td>144</td>\n",
       "      <td>241.0</td>\n",
       "      <td>325.0</td>\n",
       "      <td>188.0</td>\n",
       "      <td>127.0</td>\n",
       "      <td>9.0</td>\n",
       "      <td>11.0</td>\n",
       "      <td>180.0</td>\n",
       "      <td>183</td>\n",
       "      <td>bus</td>\n",
       "    </tr>\n",
       "  </tbody>\n",
       "</table>\n",
       "</div>"
      ],
      "text/plain": [
       "   compactness  circularity  distance_circularity  radius_ratio  \\\n",
       "0           95         48.0                  83.0         178.0   \n",
       "1           91         41.0                  84.0         141.0   \n",
       "2          104         50.0                 106.0         209.0   \n",
       "3           93         41.0                  82.0         159.0   \n",
       "4           85         44.0                  70.0         205.0   \n",
       "\n",
       "   pr.axis_aspect_ratio  max.length_aspect_ratio  scatter_ratio  \\\n",
       "0                  72.0                       10          162.0   \n",
       "1                  57.0                        9          149.0   \n",
       "2                  66.0                       10          207.0   \n",
       "3                  63.0                        9          144.0   \n",
       "4                 103.0                       52          149.0   \n",
       "\n",
       "   elongatedness  pr.axis_rectangularity  max.length_rectangularity  \\\n",
       "0           42.0                    20.0                        159   \n",
       "1           45.0                    19.0                        143   \n",
       "2           32.0                    23.0                        158   \n",
       "3           46.0                    19.0                        143   \n",
       "4           45.0                    19.0                        144   \n",
       "\n",
       "   scaled_variance  scaled_variance.1  scaled_radius_of_gyration  \\\n",
       "0            176.0              379.0                      184.0   \n",
       "1            170.0              330.0                      158.0   \n",
       "2            223.0              635.0                      220.0   \n",
       "3            160.0              309.0                      127.0   \n",
       "4            241.0              325.0                      188.0   \n",
       "\n",
       "   scaled_radius_of_gyration.1  skewness_about  skewness_about.1  \\\n",
       "0                         70.0             6.0              16.0   \n",
       "1                         72.0             9.0              14.0   \n",
       "2                         73.0            14.0               9.0   \n",
       "3                         63.0             6.0              10.0   \n",
       "4                        127.0             9.0              11.0   \n",
       "\n",
       "   skewness_about.2  hollows_ratio class  \n",
       "0             187.0            197   van  \n",
       "1             189.0            199   van  \n",
       "2             188.0            196   car  \n",
       "3             199.0            207   van  \n",
       "4             180.0            183   bus  "
      ]
     },
     "execution_count": 56,
     "metadata": {},
     "output_type": "execute_result"
    }
   ],
   "source": [
    "import pandas as pd\n",
    "df=pd.read_csv('C:/Users/Eeshwari/Desktop/GreatLearning/vehicle.csv').dropna()\n",
    "df.head()"
   ]
  },
  {
   "cell_type": "markdown",
   "metadata": {
    "colab_type": "text",
    "id": "GoxTqSl__fra"
   },
   "source": [
    "### 2. Print/ Plot the dependent (categorical variable) - Class column"
   ]
  },
  {
   "cell_type": "markdown",
   "metadata": {
    "colab_type": "text",
    "id": "Aj4R9dfr_frb"
   },
   "source": [
    "Since the variable is categorical, you can use value_counts function"
   ]
  },
  {
   "cell_type": "code",
   "execution_count": 57,
   "metadata": {
    "colab": {},
    "colab_type": "code",
    "id": "4jFodExI_frk",
    "outputId": "86647032-fd4e-45eb-f328-b1e0921641df"
   },
   "outputs": [
    {
     "data": {
      "text/plain": [
       "car    413\n",
       "bus    205\n",
       "van    195\n",
       "Name: class, dtype: int64"
      ]
     },
     "execution_count": 57,
     "metadata": {},
     "output_type": "execute_result"
    }
   ],
   "source": [
    "df['class'].value_counts()"
   ]
  },
  {
   "cell_type": "markdown",
   "metadata": {
    "colab_type": "text",
    "id": "j7dHDxSN_frp"
   },
   "source": [
    "### 3. Check for any missing values in the data "
   ]
  },
  {
   "cell_type": "code",
   "execution_count": 58,
   "metadata": {
    "colab": {},
    "colab_type": "code",
    "id": "HEQTd1bc_frr",
    "outputId": "2da786d3-7e91-4a26-cbca-25b36cf1dbe7"
   },
   "outputs": [
    {
     "data": {
      "text/plain": [
       "compactness                    0\n",
       "circularity                    0\n",
       "distance_circularity           0\n",
       "radius_ratio                   0\n",
       "pr.axis_aspect_ratio           0\n",
       "max.length_aspect_ratio        0\n",
       "scatter_ratio                  0\n",
       "elongatedness                  0\n",
       "pr.axis_rectangularity         0\n",
       "max.length_rectangularity      0\n",
       "scaled_variance                0\n",
       "scaled_variance.1              0\n",
       "scaled_radius_of_gyration      0\n",
       "scaled_radius_of_gyration.1    0\n",
       "skewness_about                 0\n",
       "skewness_about.1               0\n",
       "skewness_about.2               0\n",
       "hollows_ratio                  0\n",
       "class                          0\n",
       "dtype: int64"
      ]
     },
     "execution_count": 58,
     "metadata": {},
     "output_type": "execute_result"
    }
   ],
   "source": [
    "df.isna().sum()"
   ]
  },
  {
   "cell_type": "markdown",
   "metadata": {
    "colab_type": "text",
    "id": "uOF7TxwQ_frt"
   },
   "source": [
    "### 4. Standardize the data "
   ]
  },
  {
   "cell_type": "markdown",
   "metadata": {
    "colab_type": "text",
    "id": "6kIiPrxN_frv"
   },
   "source": [
    "Since the dimensions of the data are not really known to us, it would be wise to standardize the data using z scores before we go for any clustering methods.\n",
    "You can use zscore function to do this"
   ]
  },
  {
   "cell_type": "code",
   "execution_count": 59,
   "metadata": {
    "colab": {},
    "colab_type": "code",
    "id": "QvHHOVa7_fr_",
    "outputId": "25595edf-5f4c-4948-93dd-5466fdc613fb"
   },
   "outputs": [
    {
     "data": {
      "text/html": [
       "<div>\n",
       "<style scoped>\n",
       "    .dataframe tbody tr th:only-of-type {\n",
       "        vertical-align: middle;\n",
       "    }\n",
       "\n",
       "    .dataframe tbody tr th {\n",
       "        vertical-align: top;\n",
       "    }\n",
       "\n",
       "    .dataframe thead th {\n",
       "        text-align: right;\n",
       "    }\n",
       "</style>\n",
       "<table border=\"1\" class=\"dataframe\">\n",
       "  <thead>\n",
       "    <tr style=\"text-align: right;\">\n",
       "      <th></th>\n",
       "      <th>compactness</th>\n",
       "      <th>circularity</th>\n",
       "      <th>distance_circularity</th>\n",
       "      <th>radius_ratio</th>\n",
       "      <th>pr.axis_aspect_ratio</th>\n",
       "      <th>max.length_aspect_ratio</th>\n",
       "      <th>scatter_ratio</th>\n",
       "      <th>elongatedness</th>\n",
       "      <th>pr.axis_rectangularity</th>\n",
       "      <th>max.length_rectangularity</th>\n",
       "      <th>scaled_variance</th>\n",
       "      <th>scaled_variance.1</th>\n",
       "      <th>scaled_radius_of_gyration</th>\n",
       "      <th>scaled_radius_of_gyration.1</th>\n",
       "      <th>skewness_about</th>\n",
       "      <th>skewness_about.1</th>\n",
       "      <th>skewness_about.2</th>\n",
       "      <th>hollows_ratio</th>\n",
       "    </tr>\n",
       "  </thead>\n",
       "  <tbody>\n",
       "    <tr>\n",
       "      <td>0</td>\n",
       "      <td>0.163231</td>\n",
       "      <td>0.520408</td>\n",
       "      <td>0.060669</td>\n",
       "      <td>0.264970</td>\n",
       "      <td>1.283254</td>\n",
       "      <td>0.299721</td>\n",
       "      <td>-0.198517</td>\n",
       "      <td>0.129648</td>\n",
       "      <td>-0.217151</td>\n",
       "      <td>0.766312</td>\n",
       "      <td>-0.397397</td>\n",
       "      <td>-0.339014</td>\n",
       "      <td>0.301676</td>\n",
       "      <td>-0.321192</td>\n",
       "      <td>-0.071523</td>\n",
       "      <td>0.371287</td>\n",
       "      <td>-0.321809</td>\n",
       "      <td>0.171837</td>\n",
       "    </tr>\n",
       "    <tr>\n",
       "      <td>1</td>\n",
       "      <td>-0.322874</td>\n",
       "      <td>-0.619123</td>\n",
       "      <td>0.124067</td>\n",
       "      <td>-0.836393</td>\n",
       "      <td>-0.599253</td>\n",
       "      <td>0.085785</td>\n",
       "      <td>-0.591720</td>\n",
       "      <td>0.514333</td>\n",
       "      <td>-0.606014</td>\n",
       "      <td>-0.337462</td>\n",
       "      <td>-0.590034</td>\n",
       "      <td>-0.618754</td>\n",
       "      <td>-0.502972</td>\n",
       "      <td>-0.053505</td>\n",
       "      <td>0.538425</td>\n",
       "      <td>0.147109</td>\n",
       "      <td>0.003400</td>\n",
       "      <td>0.442318</td>\n",
       "    </tr>\n",
       "    <tr>\n",
       "      <td>2</td>\n",
       "      <td>1.256966</td>\n",
       "      <td>0.845988</td>\n",
       "      <td>1.518823</td>\n",
       "      <td>1.187734</td>\n",
       "      <td>0.530251</td>\n",
       "      <td>0.299721</td>\n",
       "      <td>1.162569</td>\n",
       "      <td>-1.152637</td>\n",
       "      <td>0.949438</td>\n",
       "      <td>0.697326</td>\n",
       "      <td>1.111591</td>\n",
       "      <td>1.122486</td>\n",
       "      <td>1.415804</td>\n",
       "      <td>0.080339</td>\n",
       "      <td>1.555006</td>\n",
       "      <td>-0.413338</td>\n",
       "      <td>-0.159204</td>\n",
       "      <td>0.036596</td>\n",
       "    </tr>\n",
       "    <tr>\n",
       "      <td>3</td>\n",
       "      <td>-0.079822</td>\n",
       "      <td>-0.619123</td>\n",
       "      <td>-0.002729</td>\n",
       "      <td>-0.300595</td>\n",
       "      <td>0.153750</td>\n",
       "      <td>0.085785</td>\n",
       "      <td>-0.742952</td>\n",
       "      <td>0.642562</td>\n",
       "      <td>-0.606014</td>\n",
       "      <td>-0.337462</td>\n",
       "      <td>-0.911095</td>\n",
       "      <td>-0.738643</td>\n",
       "      <td>-1.462359</td>\n",
       "      <td>-1.258099</td>\n",
       "      <td>-0.071523</td>\n",
       "      <td>-0.301249</td>\n",
       "      <td>1.629444</td>\n",
       "      <td>1.524243</td>\n",
       "    </tr>\n",
       "    <tr>\n",
       "      <td>4</td>\n",
       "      <td>-1.052030</td>\n",
       "      <td>-0.130753</td>\n",
       "      <td>-0.763506</td>\n",
       "      <td>1.068668</td>\n",
       "      <td>5.173770</td>\n",
       "      <td>9.285029</td>\n",
       "      <td>-0.591720</td>\n",
       "      <td>0.514333</td>\n",
       "      <td>-0.606014</td>\n",
       "      <td>-0.268476</td>\n",
       "      <td>1.689501</td>\n",
       "      <td>-0.647299</td>\n",
       "      <td>0.425468</td>\n",
       "      <td>7.307905</td>\n",
       "      <td>0.538425</td>\n",
       "      <td>-0.189159</td>\n",
       "      <td>-1.460039</td>\n",
       "      <td>-1.721531</td>\n",
       "    </tr>\n",
       "    <tr>\n",
       "      <td>...</td>\n",
       "      <td>...</td>\n",
       "      <td>...</td>\n",
       "      <td>...</td>\n",
       "      <td>...</td>\n",
       "      <td>...</td>\n",
       "      <td>...</td>\n",
       "      <td>...</td>\n",
       "      <td>...</td>\n",
       "      <td>...</td>\n",
       "      <td>...</td>\n",
       "      <td>...</td>\n",
       "      <td>...</td>\n",
       "      <td>...</td>\n",
       "      <td>...</td>\n",
       "      <td>...</td>\n",
       "      <td>...</td>\n",
       "      <td>...</td>\n",
       "      <td>...</td>\n",
       "    </tr>\n",
       "    <tr>\n",
       "      <td>841</td>\n",
       "      <td>-0.079822</td>\n",
       "      <td>-0.944703</td>\n",
       "      <td>0.314261</td>\n",
       "      <td>0.413803</td>\n",
       "      <td>0.279250</td>\n",
       "      <td>-0.128151</td>\n",
       "      <td>0.013207</td>\n",
       "      <td>-0.126809</td>\n",
       "      <td>-0.217151</td>\n",
       "      <td>-0.958335</td>\n",
       "      <td>0.373150</td>\n",
       "      <td>-0.093528</td>\n",
       "      <td>-0.781504</td>\n",
       "      <td>-0.053505</td>\n",
       "      <td>0.131793</td>\n",
       "      <td>1.380091</td>\n",
       "      <td>-0.159204</td>\n",
       "      <td>-0.098644</td>\n",
       "    </tr>\n",
       "    <tr>\n",
       "      <td>842</td>\n",
       "      <td>-0.565926</td>\n",
       "      <td>0.194828</td>\n",
       "      <td>0.124067</td>\n",
       "      <td>-0.181529</td>\n",
       "      <td>0.530251</td>\n",
       "      <td>0.513657</td>\n",
       "      <td>-0.289256</td>\n",
       "      <td>0.257876</td>\n",
       "      <td>-0.217151</td>\n",
       "      <td>0.766312</td>\n",
       "      <td>-0.493716</td>\n",
       "      <td>-0.401813</td>\n",
       "      <td>0.054092</td>\n",
       "      <td>-0.053505</td>\n",
       "      <td>-1.088104</td>\n",
       "      <td>0.819644</td>\n",
       "      <td>-0.484413</td>\n",
       "      <td>0.171837</td>\n",
       "    </tr>\n",
       "    <tr>\n",
       "      <td>843</td>\n",
       "      <td>1.500018</td>\n",
       "      <td>1.497149</td>\n",
       "      <td>1.201833</td>\n",
       "      <td>1.574700</td>\n",
       "      <td>0.655752</td>\n",
       "      <td>0.727593</td>\n",
       "      <td>1.616264</td>\n",
       "      <td>-1.409094</td>\n",
       "      <td>1.727163</td>\n",
       "      <td>1.732113</td>\n",
       "      <td>1.272121</td>\n",
       "      <td>1.613458</td>\n",
       "      <td>0.796844</td>\n",
       "      <td>-0.321192</td>\n",
       "      <td>-0.681472</td>\n",
       "      <td>-0.973784</td>\n",
       "      <td>-0.321809</td>\n",
       "      <td>0.712800</td>\n",
       "    </tr>\n",
       "    <tr>\n",
       "      <td>844</td>\n",
       "      <td>-0.930504</td>\n",
       "      <td>-1.433074</td>\n",
       "      <td>-0.256321</td>\n",
       "      <td>-0.687560</td>\n",
       "      <td>-0.473753</td>\n",
       "      <td>-0.342087</td>\n",
       "      <td>-1.015169</td>\n",
       "      <td>1.155476</td>\n",
       "      <td>-0.994877</td>\n",
       "      <td>-1.648193</td>\n",
       "      <td>-1.071626</td>\n",
       "      <td>-0.961293</td>\n",
       "      <td>-0.812452</td>\n",
       "      <td>-0.856567</td>\n",
       "      <td>-1.291420</td>\n",
       "      <td>1.380091</td>\n",
       "      <td>0.166004</td>\n",
       "      <td>-0.098644</td>\n",
       "    </tr>\n",
       "    <tr>\n",
       "      <td>845</td>\n",
       "      <td>-1.052030</td>\n",
       "      <td>-1.433074</td>\n",
       "      <td>-1.017098</td>\n",
       "      <td>-1.372192</td>\n",
       "      <td>-0.850254</td>\n",
       "      <td>-0.769959</td>\n",
       "      <td>-1.468864</td>\n",
       "      <td>1.924847</td>\n",
       "      <td>-1.383740</td>\n",
       "      <td>-1.372250</td>\n",
       "      <td>-1.553218</td>\n",
       "      <td>-1.292414</td>\n",
       "      <td>-1.338567</td>\n",
       "      <td>0.080339</td>\n",
       "      <td>-1.088104</td>\n",
       "      <td>0.595466</td>\n",
       "      <td>-0.484413</td>\n",
       "      <td>-0.774847</td>\n",
       "    </tr>\n",
       "  </tbody>\n",
       "</table>\n",
       "<p>813 rows × 18 columns</p>\n",
       "</div>"
      ],
      "text/plain": [
       "     compactness  circularity  distance_circularity  radius_ratio  \\\n",
       "0       0.163231     0.520408              0.060669      0.264970   \n",
       "1      -0.322874    -0.619123              0.124067     -0.836393   \n",
       "2       1.256966     0.845988              1.518823      1.187734   \n",
       "3      -0.079822    -0.619123             -0.002729     -0.300595   \n",
       "4      -1.052030    -0.130753             -0.763506      1.068668   \n",
       "..           ...          ...                   ...           ...   \n",
       "841    -0.079822    -0.944703              0.314261      0.413803   \n",
       "842    -0.565926     0.194828              0.124067     -0.181529   \n",
       "843     1.500018     1.497149              1.201833      1.574700   \n",
       "844    -0.930504    -1.433074             -0.256321     -0.687560   \n",
       "845    -1.052030    -1.433074             -1.017098     -1.372192   \n",
       "\n",
       "     pr.axis_aspect_ratio  max.length_aspect_ratio  scatter_ratio  \\\n",
       "0                1.283254                 0.299721      -0.198517   \n",
       "1               -0.599253                 0.085785      -0.591720   \n",
       "2                0.530251                 0.299721       1.162569   \n",
       "3                0.153750                 0.085785      -0.742952   \n",
       "4                5.173770                 9.285029      -0.591720   \n",
       "..                    ...                      ...            ...   \n",
       "841              0.279250                -0.128151       0.013207   \n",
       "842              0.530251                 0.513657      -0.289256   \n",
       "843              0.655752                 0.727593       1.616264   \n",
       "844             -0.473753                -0.342087      -1.015169   \n",
       "845             -0.850254                -0.769959      -1.468864   \n",
       "\n",
       "     elongatedness  pr.axis_rectangularity  max.length_rectangularity  \\\n",
       "0         0.129648               -0.217151                   0.766312   \n",
       "1         0.514333               -0.606014                  -0.337462   \n",
       "2        -1.152637                0.949438                   0.697326   \n",
       "3         0.642562               -0.606014                  -0.337462   \n",
       "4         0.514333               -0.606014                  -0.268476   \n",
       "..             ...                     ...                        ...   \n",
       "841      -0.126809               -0.217151                  -0.958335   \n",
       "842       0.257876               -0.217151                   0.766312   \n",
       "843      -1.409094                1.727163                   1.732113   \n",
       "844       1.155476               -0.994877                  -1.648193   \n",
       "845       1.924847               -1.383740                  -1.372250   \n",
       "\n",
       "     scaled_variance  scaled_variance.1  scaled_radius_of_gyration  \\\n",
       "0          -0.397397          -0.339014                   0.301676   \n",
       "1          -0.590034          -0.618754                  -0.502972   \n",
       "2           1.111591           1.122486                   1.415804   \n",
       "3          -0.911095          -0.738643                  -1.462359   \n",
       "4           1.689501          -0.647299                   0.425468   \n",
       "..               ...                ...                        ...   \n",
       "841         0.373150          -0.093528                  -0.781504   \n",
       "842        -0.493716          -0.401813                   0.054092   \n",
       "843         1.272121           1.613458                   0.796844   \n",
       "844        -1.071626          -0.961293                  -0.812452   \n",
       "845        -1.553218          -1.292414                  -1.338567   \n",
       "\n",
       "     scaled_radius_of_gyration.1  skewness_about  skewness_about.1  \\\n",
       "0                      -0.321192       -0.071523          0.371287   \n",
       "1                      -0.053505        0.538425          0.147109   \n",
       "2                       0.080339        1.555006         -0.413338   \n",
       "3                      -1.258099       -0.071523         -0.301249   \n",
       "4                       7.307905        0.538425         -0.189159   \n",
       "..                           ...             ...               ...   \n",
       "841                    -0.053505        0.131793          1.380091   \n",
       "842                    -0.053505       -1.088104          0.819644   \n",
       "843                    -0.321192       -0.681472         -0.973784   \n",
       "844                    -0.856567       -1.291420          1.380091   \n",
       "845                     0.080339       -1.088104          0.595466   \n",
       "\n",
       "     skewness_about.2  hollows_ratio  \n",
       "0           -0.321809       0.171837  \n",
       "1            0.003400       0.442318  \n",
       "2           -0.159204       0.036596  \n",
       "3            1.629444       1.524243  \n",
       "4           -1.460039      -1.721531  \n",
       "..                ...            ...  \n",
       "841         -0.159204      -0.098644  \n",
       "842         -0.484413       0.171837  \n",
       "843         -0.321809       0.712800  \n",
       "844          0.166004      -0.098644  \n",
       "845         -0.484413      -0.774847  \n",
       "\n",
       "[813 rows x 18 columns]"
      ]
     },
     "execution_count": 59,
     "metadata": {},
     "output_type": "execute_result"
    }
   ],
   "source": [
    "df1=df.drop(['class'],axis=1)\n",
    "\n",
    "from scipy import stats\n",
    "# zscore\n",
    "df1.apply(stats.zscore)"
   ]
  },
  {
   "cell_type": "markdown",
   "metadata": {
    "colab_type": "text",
    "id": "wYh90u-g_fsF"
   },
   "source": [
    "### K - Means Clustering"
   ]
  },
  {
   "cell_type": "markdown",
   "metadata": {
    "colab_type": "text",
    "id": "6UfbOSle_fsF"
   },
   "source": [
    "### 5. Assign a dummy array called distortion"
   ]
  },
  {
   "cell_type": "markdown",
   "metadata": {
    "colab_type": "text",
    "id": "zvp3u_Sr_fsG"
   },
   "source": [
    "You can later use this array to plot the elbow plot"
   ]
  },
  {
   "cell_type": "code",
   "execution_count": 60,
   "metadata": {
    "colab": {},
    "colab_type": "code",
    "id": "da4KgLpj_fsJ"
   },
   "outputs": [
    {
     "data": {
      "text/plain": [
       "<matplotlib.collections.PathCollection at 0x1b770cfd048>"
      ]
     },
     "execution_count": 60,
     "metadata": {},
     "output_type": "execute_result"
    },
    {
     "data": {
      "image/png": "[encoded data removed]",
      "text/plain": [
       "<Figure size 432x288 with 1 Axes>"
      ]
     },
     "metadata": {
      "needs_background": "light"
     },
     "output_type": "display_data"
    }
   ],
   "source": [
    "import numpy as np\n",
    "import matplotlib.pyplot as plt\n",
    "\n",
    "dist=np.array(np.array([[1, 2],\n",
    "              [1, 8],\n",
    "              [5, 8 ],\n",
    "              [8, 8],\n",
    "              [1, 6],\n",
    "              [9,11],[1, 6],[1, 8],\n",
    "              [5, 8 ]]))\n",
    "plt.scatter(dist[:,0], dist[:,1], s=150)\n"
   ]
  },
  {
   "cell_type": "code",
   "execution_count": 61,
   "metadata": {},
   "outputs": [
    {
     "data": {
      "text/html": [
       "<div>\n",
       "<style scoped>\n",
       "    .dataframe tbody tr th:only-of-type {\n",
       "        vertical-align: middle;\n",
       "    }\n",
       "\n",
       "    .dataframe tbody tr th {\n",
       "        vertical-align: top;\n",
       "    }\n",
       "\n",
       "    .dataframe thead th {\n",
       "        text-align: right;\n",
       "    }\n",
       "</style>\n",
       "<table border=\"1\" class=\"dataframe\">\n",
       "  <thead>\n",
       "    <tr style=\"text-align: right;\">\n",
       "      <th></th>\n",
       "      <th>0</th>\n",
       "      <th>1</th>\n",
       "    </tr>\n",
       "  </thead>\n",
       "  <tbody>\n",
       "    <tr>\n",
       "      <td>0</td>\n",
       "      <td>1</td>\n",
       "      <td>2</td>\n",
       "    </tr>\n",
       "    <tr>\n",
       "      <td>1</td>\n",
       "      <td>1</td>\n",
       "      <td>8</td>\n",
       "    </tr>\n",
       "    <tr>\n",
       "      <td>2</td>\n",
       "      <td>5</td>\n",
       "      <td>8</td>\n",
       "    </tr>\n",
       "    <tr>\n",
       "      <td>3</td>\n",
       "      <td>8</td>\n",
       "      <td>8</td>\n",
       "    </tr>\n",
       "    <tr>\n",
       "      <td>4</td>\n",
       "      <td>1</td>\n",
       "      <td>6</td>\n",
       "    </tr>\n",
       "    <tr>\n",
       "      <td>5</td>\n",
       "      <td>9</td>\n",
       "      <td>11</td>\n",
       "    </tr>\n",
       "    <tr>\n",
       "      <td>6</td>\n",
       "      <td>1</td>\n",
       "      <td>6</td>\n",
       "    </tr>\n",
       "    <tr>\n",
       "      <td>7</td>\n",
       "      <td>1</td>\n",
       "      <td>8</td>\n",
       "    </tr>\n",
       "    <tr>\n",
       "      <td>8</td>\n",
       "      <td>5</td>\n",
       "      <td>8</td>\n",
       "    </tr>\n",
       "  </tbody>\n",
       "</table>\n",
       "</div>"
      ],
      "text/plain": [
       "   0   1\n",
       "0  1   2\n",
       "1  1   8\n",
       "2  5   8\n",
       "3  8   8\n",
       "4  1   6\n",
       "5  9  11\n",
       "6  1   6\n",
       "7  1   8\n",
       "8  5   8"
      ]
     },
     "execution_count": 61,
     "metadata": {},
     "output_type": "execute_result"
    }
   ],
   "source": [
    "dist=pd.DataFrame(dist)\n",
    "dist"
   ]
  },
  {
   "cell_type": "markdown",
   "metadata": {
    "colab_type": "text",
    "id": "LddyFnZW_fsO"
   },
   "source": [
    "### 6. Calculating distortion - C distance"
   ]
  },
  {
   "cell_type": "markdown",
   "metadata": {
    "colab_type": "text",
    "id": "fwxCYkN6_fsP"
   },
   "source": [
    "Iterating values of k from 1 to 10 fit K means model\n",
    "Using c distance - Get the measure for Sum of squares error."
   ]
  },
  {
   "cell_type": "code",
   "execution_count": 62,
   "metadata": {},
   "outputs": [],
   "source": [
    "# kmeans_s = KMeans(n_clusters=4, max_iter=1000).fit(dist)\n",
    "# kmeans_s.inertia_\n"
   ]
  },
  {
   "cell_type": "code",
   "execution_count": 64,
   "metadata": {},
   "outputs": [
    {
     "data": {
      "text/html": [
       "<div>\n",
       "<style scoped>\n",
       "    .dataframe tbody tr th:only-of-type {\n",
       "        vertical-align: middle;\n",
       "    }\n",
       "\n",
       "    .dataframe tbody tr th {\n",
       "        vertical-align: top;\n",
       "    }\n",
       "\n",
       "    .dataframe thead th {\n",
       "        text-align: right;\n",
       "    }\n",
       "</style>\n",
       "<table border=\"1\" class=\"dataframe\">\n",
       "  <thead>\n",
       "    <tr style=\"text-align: right;\">\n",
       "      <th></th>\n",
       "      <th>num_clusters</th>\n",
       "      <th>SSE</th>\n",
       "    </tr>\n",
       "  </thead>\n",
       "  <tbody>\n",
       "    <tr>\n",
       "      <td>0</td>\n",
       "      <td>1</td>\n",
       "      <td>2.917617e+07</td>\n",
       "    </tr>\n",
       "    <tr>\n",
       "      <td>1</td>\n",
       "      <td>2</td>\n",
       "      <td>6.905477e+06</td>\n",
       "    </tr>\n",
       "    <tr>\n",
       "      <td>2</td>\n",
       "      <td>3</td>\n",
       "      <td>4.610991e+06</td>\n",
       "    </tr>\n",
       "    <tr>\n",
       "      <td>3</td>\n",
       "      <td>4</td>\n",
       "      <td>3.333252e+06</td>\n",
       "    </tr>\n",
       "    <tr>\n",
       "      <td>4</td>\n",
       "      <td>5</td>\n",
       "      <td>2.288297e+06</td>\n",
       "    </tr>\n",
       "    <tr>\n",
       "      <td>5</td>\n",
       "      <td>6</td>\n",
       "      <td>1.823916e+06</td>\n",
       "    </tr>\n",
       "    <tr>\n",
       "      <td>6</td>\n",
       "      <td>7</td>\n",
       "      <td>1.601418e+06</td>\n",
       "    </tr>\n",
       "    <tr>\n",
       "      <td>7</td>\n",
       "      <td>8</td>\n",
       "      <td>1.450536e+06</td>\n",
       "    </tr>\n",
       "    <tr>\n",
       "      <td>8</td>\n",
       "      <td>9</td>\n",
       "      <td>1.308526e+06</td>\n",
       "    </tr>\n",
       "  </tbody>\n",
       "</table>\n",
       "</div>"
      ],
      "text/plain": [
       "   num_clusters           SSE\n",
       "0             1  2.917617e+07\n",
       "1             2  6.905477e+06\n",
       "2             3  4.610991e+06\n",
       "3             4  3.333252e+06\n",
       "4             5  2.288297e+06\n",
       "5             6  1.823916e+06\n",
       "6             7  1.601418e+06\n",
       "7             8  1.450536e+06\n",
       "8             9  1.308526e+06"
      ]
     },
     "execution_count": 64,
     "metadata": {},
     "output_type": "execute_result"
    }
   ],
   "source": [
    "from sklearn.cluster import KMeans\n",
    "cluster_range=range(1,10)\n",
    "wcss=[]\n",
    "for num_clusters in cluster_range:\n",
    "    kmean_s=KMeans(num_clusters,n_init=10)\n",
    "    kmean_s.fit(df1)\n",
    "    labels=kmean_s.labels_\n",
    "    wcss.append(kmean_s.inertia_)\n",
    "clusters_df=pd.DataFrame({'num_clusters':cluster_range,'SSE':wcss})\n",
    "clusters_df"
   ]
  },
  {
   "cell_type": "markdown",
   "metadata": {
    "colab_type": "text",
    "id": "R1NEP9ah_fsP"
   },
   "source": [
    "**Here, logically K-Means attempts to minimize distortion defined by the the sum of the squared distances between each observation and its closest centroid.**"
   ]
  },
  {
   "cell_type": "code",
   "execution_count": 65,
   "metadata": {
    "colab": {},
    "colab_type": "code",
    "id": "NDTS685e_fsQ"
   },
   "outputs": [
    {
     "data": {
      "text/html": [
       "<div>\n",
       "<style scoped>\n",
       "    .dataframe tbody tr th:only-of-type {\n",
       "        vertical-align: middle;\n",
       "    }\n",
       "\n",
       "    .dataframe tbody tr th {\n",
       "        vertical-align: top;\n",
       "    }\n",
       "\n",
       "    .dataframe thead th {\n",
       "        text-align: right;\n",
       "    }\n",
       "</style>\n",
       "<table border=\"1\" class=\"dataframe\">\n",
       "  <thead>\n",
       "    <tr style=\"text-align: right;\">\n",
       "      <th></th>\n",
       "      <th>num_clusters</th>\n",
       "      <th>Inertia</th>\n",
       "    </tr>\n",
       "  </thead>\n",
       "  <tbody>\n",
       "    <tr>\n",
       "      <td>0</td>\n",
       "      <td>1</td>\n",
       "      <td>2.917617e+07</td>\n",
       "    </tr>\n",
       "    <tr>\n",
       "      <td>1</td>\n",
       "      <td>2</td>\n",
       "      <td>6.905477e+06</td>\n",
       "    </tr>\n",
       "    <tr>\n",
       "      <td>2</td>\n",
       "      <td>3</td>\n",
       "      <td>4.610991e+06</td>\n",
       "    </tr>\n",
       "    <tr>\n",
       "      <td>3</td>\n",
       "      <td>4</td>\n",
       "      <td>3.333252e+06</td>\n",
       "    </tr>\n",
       "    <tr>\n",
       "      <td>4</td>\n",
       "      <td>5</td>\n",
       "      <td>2.288297e+06</td>\n",
       "    </tr>\n",
       "    <tr>\n",
       "      <td>5</td>\n",
       "      <td>6</td>\n",
       "      <td>1.823916e+06</td>\n",
       "    </tr>\n",
       "    <tr>\n",
       "      <td>6</td>\n",
       "      <td>7</td>\n",
       "      <td>1.601418e+06</td>\n",
       "    </tr>\n",
       "    <tr>\n",
       "      <td>7</td>\n",
       "      <td>8</td>\n",
       "      <td>1.441592e+06</td>\n",
       "    </tr>\n",
       "    <tr>\n",
       "      <td>8</td>\n",
       "      <td>9</td>\n",
       "      <td>1.357649e+06</td>\n",
       "    </tr>\n",
       "  </tbody>\n",
       "</table>\n",
       "</div>"
      ],
      "text/plain": [
       "   num_clusters       Inertia\n",
       "0             1  2.917617e+07\n",
       "1             2  6.905477e+06\n",
       "2             3  4.610991e+06\n",
       "3             4  3.333252e+06\n",
       "4             5  2.288297e+06\n",
       "5             6  1.823916e+06\n",
       "6             7  1.601418e+06\n",
       "7             8  1.441592e+06\n",
       "8             9  1.357649e+06"
      ]
     },
     "execution_count": 65,
     "metadata": {},
     "output_type": "execute_result"
    }
   ],
   "source": [
    "from sklearn.cluster import KMeans\n",
    "cluster_range=range(1,10)\n",
    "wcss=[]\n",
    "for num_clusters in cluster_range:\n",
    "    kmeans=KMeans(num_clusters,n_init=10)\n",
    "    kmeans.fit(df1)\n",
    "    labels=kmeans.labels_\n",
    "    wcss.append(kmeans.inertia_)\n",
    "clusters_df=pd.DataFrame({'num_clusters':cluster_range,'Inertia':wcss})\n",
    "clusters_df"
   ]
  },
  {
   "cell_type": "code",
   "execution_count": null,
   "metadata": {},
   "outputs": [],
   "source": []
  },
  {
   "cell_type": "markdown",
   "metadata": {
    "colab_type": "text",
    "id": "NdomoKhf_fsS"
   },
   "source": [
    "### 7. Plotting Elbow/ Scree Plot"
   ]
  },
  {
   "cell_type": "markdown",
   "metadata": {
    "colab_type": "text",
    "id": "ehzz3z6q_fsT"
   },
   "source": [
    "Use Matplotlib to plot the scree plot - Note: Scree plot plots distortion vs the no of clusters"
   ]
  },
  {
   "cell_type": "code",
   "execution_count": 23,
   "metadata": {
    "colab": {},
    "colab_type": "code",
    "id": "v1xh8XxP_fsU",
    "outputId": "72d4f5de-7ca3-4d04-b196-1e499aa160d5"
   },
   "outputs": [
    {
     "data": {
      "image/png": "[encoded data removed]",
      "text/plain": [
       "<Figure size 864x432 with 1 Axes>"
      ]
     },
     "metadata": {
      "needs_background": "light"
     },
     "output_type": "display_data"
    }
   ],
   "source": [
    "import matplotlib.pyplot as plt\n",
    "%matplotlib inline\n",
    "\n",
    "plt.figure(figsize=(12,6))\n",
    "plt.plot(clusters_df.num_clusters,clusters_df.Inertia,marker='o')\n",
    "plt.show()"
   ]
  },
  {
   "cell_type": "markdown",
   "metadata": {
    "colab_type": "text",
    "id": "w_EZbvnu_fsX"
   },
   "source": [
    "### 8. Find out the optimal value of K"
   ]
  },
  {
   "cell_type": "markdown",
   "metadata": {
    "colab_type": "text",
    "id": "e9cQ8I4c_fsY"
   },
   "source": [
    "K=2 is the optimal value as seen in the elbow graph above"
   ]
  },
  {
   "cell_type": "markdown",
   "metadata": {
    "colab_type": "text",
    "id": "Sc-xTeaI_fsY"
   },
   "source": [
    "### 9. Using optimal value of K - Cluster the data. \n",
    "Note: Since the data has more than 2 dimension we cannot visualize the data. As an alternative, we can observe the centroids and note how they are distributed across different dimensions"
   ]
  },
  {
   "cell_type": "code",
   "execution_count": 27,
   "metadata": {
    "colab": {},
    "colab_type": "code",
    "id": "0Eb4xoNi_fsZ"
   },
   "outputs": [
    {
     "data": {
      "text/plain": [
       "array([[ 97.96031746,  46.5952381 ,  93.16666667, 198.28571429,\n",
       "         64.02380952,   8.5952381 , 187.23015873,  35.12698413,\n",
       "         21.88095238, 149.92063492, 207.4047619 , 529.33333333,\n",
       "        183.03968254,  68.26984127,   6.04761905,  13.57142857,\n",
       "        193.07936508, 200.08730159],\n",
       "       [ 89.22222222,  42.75438596,  75.74561404, 158.77192982,\n",
       "         63.09356725,   8.85964912, 153.5380117 ,  43.52631579,\n",
       "         19.29824561, 143.78654971, 176.35964912, 350.8245614 ,\n",
       "        165.50292398,  73.57017544,   5.93859649,  11.1374269 ,\n",
       "        188.4502924 , 195.00292398],\n",
       "       [104.41666667,  53.40555556, 102.88888889, 201.16111111,\n",
       "         61.82222222,   9.85555556, 219.15      ,  30.45555556,\n",
       "         24.56666667, 167.6       , 231.47777778, 712.17222222,\n",
       "        215.31111111,  72.92777778,   7.33888889,  16.2       ,\n",
       "        187.62222222, 196.06666667],\n",
       "       [ 87.82424242,  38.2969697 ,  63.86060606, 133.23636364,\n",
       "         57.27272727,   6.69090909, 130.26666667,  51.6969697 ,\n",
       "         17.78787879, 133.35151515, 151.73939394, 251.73333333,\n",
       "        140.88484848,  72.55151515,   6.36363636,  11.39393939,\n",
       "        188.42424242, 193.53939394]])"
      ]
     },
     "execution_count": 27,
     "metadata": {},
     "output_type": "execute_result"
    }
   ],
   "source": [
    "kmeans=KMeans(n_clusters=4,n_init=15)\n",
    "kmeans.fit(df1)\n",
    "kmeans.cluster_centers_"
   ]
  },
  {
   "cell_type": "markdown",
   "metadata": {
    "colab_type": "text",
    "id": "lek8vZ_f_fsh"
   },
   "source": [
    "### 10. Store the centroids in a dataframe with column names from the original dataset given "
   ]
  },
  {
   "cell_type": "markdown",
   "metadata": {
    "colab_type": "text",
    "id": "m5AoR2Dz_fsj"
   },
   "source": [
    "Hint: Use pd.Dataframe function "
   ]
  },
  {
   "cell_type": "code",
   "execution_count": 29,
   "metadata": {
    "colab": {},
    "colab_type": "code",
    "id": "pqsmQ0iQ_fsn",
    "outputId": "33112068-44e2-42d1-af97-576ed961b84e"
   },
   "outputs": [
    {
     "data": {
      "text/html": [
       "<div>\n",
       "<style scoped>\n",
       "    .dataframe tbody tr th:only-of-type {\n",
       "        vertical-align: middle;\n",
       "    }\n",
       "\n",
       "    .dataframe tbody tr th {\n",
       "        vertical-align: top;\n",
       "    }\n",
       "\n",
       "    .dataframe thead th {\n",
       "        text-align: right;\n",
       "    }\n",
       "</style>\n",
       "<table border=\"1\" class=\"dataframe\">\n",
       "  <thead>\n",
       "    <tr style=\"text-align: right;\">\n",
       "      <th></th>\n",
       "      <th>compactness</th>\n",
       "      <th>circularity</th>\n",
       "      <th>distance_circularity</th>\n",
       "      <th>radius_ratio</th>\n",
       "      <th>pr.axis_aspect_ratio</th>\n",
       "      <th>max.length_aspect_ratio</th>\n",
       "      <th>scatter_ratio</th>\n",
       "      <th>elongatedness</th>\n",
       "      <th>pr.axis_rectangularity</th>\n",
       "      <th>max.length_rectangularity</th>\n",
       "      <th>scaled_variance</th>\n",
       "      <th>scaled_variance.1</th>\n",
       "      <th>scaled_radius_of_gyration</th>\n",
       "      <th>scaled_radius_of_gyration.1</th>\n",
       "      <th>skewness_about</th>\n",
       "      <th>skewness_about.1</th>\n",
       "      <th>skewness_about.2</th>\n",
       "      <th>hollows_ratio</th>\n",
       "    </tr>\n",
       "  </thead>\n",
       "  <tbody>\n",
       "    <tr>\n",
       "      <td>0</td>\n",
       "      <td>97.960317</td>\n",
       "      <td>46.595238</td>\n",
       "      <td>93.166667</td>\n",
       "      <td>198.285714</td>\n",
       "      <td>64.023810</td>\n",
       "      <td>8.595238</td>\n",
       "      <td>187.230159</td>\n",
       "      <td>35.126984</td>\n",
       "      <td>21.880952</td>\n",
       "      <td>149.920635</td>\n",
       "      <td>207.404762</td>\n",
       "      <td>529.333333</td>\n",
       "      <td>183.039683</td>\n",
       "      <td>68.269841</td>\n",
       "      <td>6.047619</td>\n",
       "      <td>13.571429</td>\n",
       "      <td>193.079365</td>\n",
       "      <td>200.087302</td>\n",
       "    </tr>\n",
       "    <tr>\n",
       "      <td>1</td>\n",
       "      <td>89.222222</td>\n",
       "      <td>42.754386</td>\n",
       "      <td>75.745614</td>\n",
       "      <td>158.771930</td>\n",
       "      <td>63.093567</td>\n",
       "      <td>8.859649</td>\n",
       "      <td>153.538012</td>\n",
       "      <td>43.526316</td>\n",
       "      <td>19.298246</td>\n",
       "      <td>143.786550</td>\n",
       "      <td>176.359649</td>\n",
       "      <td>350.824561</td>\n",
       "      <td>165.502924</td>\n",
       "      <td>73.570175</td>\n",
       "      <td>5.938596</td>\n",
       "      <td>11.137427</td>\n",
       "      <td>188.450292</td>\n",
       "      <td>195.002924</td>\n",
       "    </tr>\n",
       "    <tr>\n",
       "      <td>2</td>\n",
       "      <td>104.416667</td>\n",
       "      <td>53.405556</td>\n",
       "      <td>102.888889</td>\n",
       "      <td>201.161111</td>\n",
       "      <td>61.822222</td>\n",
       "      <td>9.855556</td>\n",
       "      <td>219.150000</td>\n",
       "      <td>30.455556</td>\n",
       "      <td>24.566667</td>\n",
       "      <td>167.600000</td>\n",
       "      <td>231.477778</td>\n",
       "      <td>712.172222</td>\n",
       "      <td>215.311111</td>\n",
       "      <td>72.927778</td>\n",
       "      <td>7.338889</td>\n",
       "      <td>16.200000</td>\n",
       "      <td>187.622222</td>\n",
       "      <td>196.066667</td>\n",
       "    </tr>\n",
       "    <tr>\n",
       "      <td>3</td>\n",
       "      <td>87.824242</td>\n",
       "      <td>38.296970</td>\n",
       "      <td>63.860606</td>\n",
       "      <td>133.236364</td>\n",
       "      <td>57.272727</td>\n",
       "      <td>6.690909</td>\n",
       "      <td>130.266667</td>\n",
       "      <td>51.696970</td>\n",
       "      <td>17.787879</td>\n",
       "      <td>133.351515</td>\n",
       "      <td>151.739394</td>\n",
       "      <td>251.733333</td>\n",
       "      <td>140.884848</td>\n",
       "      <td>72.551515</td>\n",
       "      <td>6.363636</td>\n",
       "      <td>11.393939</td>\n",
       "      <td>188.424242</td>\n",
       "      <td>193.539394</td>\n",
       "    </tr>\n",
       "  </tbody>\n",
       "</table>\n",
       "</div>"
      ],
      "text/plain": [
       "   compactness  circularity  distance_circularity  radius_ratio  \\\n",
       "0    97.960317    46.595238             93.166667    198.285714   \n",
       "1    89.222222    42.754386             75.745614    158.771930   \n",
       "2   104.416667    53.405556            102.888889    201.161111   \n",
       "3    87.824242    38.296970             63.860606    133.236364   \n",
       "\n",
       "   pr.axis_aspect_ratio  max.length_aspect_ratio  scatter_ratio  \\\n",
       "0             64.023810                 8.595238     187.230159   \n",
       "1             63.093567                 8.859649     153.538012   \n",
       "2             61.822222                 9.855556     219.150000   \n",
       "3             57.272727                 6.690909     130.266667   \n",
       "\n",
       "   elongatedness  pr.axis_rectangularity  max.length_rectangularity  \\\n",
       "0      35.126984               21.880952                 149.920635   \n",
       "1      43.526316               19.298246                 143.786550   \n",
       "2      30.455556               24.566667                 167.600000   \n",
       "3      51.696970               17.787879                 133.351515   \n",
       "\n",
       "   scaled_variance  scaled_variance.1  scaled_radius_of_gyration  \\\n",
       "0       207.404762         529.333333                 183.039683   \n",
       "1       176.359649         350.824561                 165.502924   \n",
       "2       231.477778         712.172222                 215.311111   \n",
       "3       151.739394         251.733333                 140.884848   \n",
       "\n",
       "   scaled_radius_of_gyration.1  skewness_about  skewness_about.1  \\\n",
       "0                    68.269841        6.047619         13.571429   \n",
       "1                    73.570175        5.938596         11.137427   \n",
       "2                    72.927778        7.338889         16.200000   \n",
       "3                    72.551515        6.363636         11.393939   \n",
       "\n",
       "   skewness_about.2  hollows_ratio  \n",
       "0        193.079365     200.087302  \n",
       "1        188.450292     195.002924  \n",
       "2        187.622222     196.066667  \n",
       "3        188.424242     193.539394  "
      ]
     },
     "execution_count": 29,
     "metadata": {},
     "output_type": "execute_result"
    }
   ],
   "source": [
    "centroids=pd.DataFrame(kmeans.cluster_centers_,columns=df1.columns)\n",
    "centroids"
   ]
  },
  {
   "cell_type": "markdown",
   "metadata": {
    "colab_type": "text",
    "id": "QmmrKn_U_fsr"
   },
   "source": [
    "### 11. Use kmeans.labels_ function to print out the labels of the classes"
   ]
  },
  {
   "cell_type": "code",
   "execution_count": 30,
   "metadata": {
    "colab": {},
    "colab_type": "code",
    "id": "qnLKD6-j_fsr"
   },
   "outputs": [
    {
     "data": {
      "text/plain": [
       "array([1, 1, 2, 1, 1, 1, 3, 3, 3, 3, 1, 1, 0, 2, 3, 0, 2, 1, 3, 1, 1, 2,\n",
       "       1, 3, 2, 0, 1, 1, 3, 3, 2, 1, 1, 1, 2, 1, 2, 3, 1, 1, 2, 1, 3, 1,\n",
       "       1, 1, 3, 1, 2, 1, 2, 3, 0, 1, 2, 3, 0, 3, 3, 1, 0, 1, 2, 1, 0, 2,\n",
       "       0, 3, 1, 0, 0, 1, 1, 2, 3, 1, 1, 2, 1, 3, 0, 3, 2, 1, 0, 1, 1, 2,\n",
       "       1, 1, 0, 1, 1, 1, 3, 3, 0, 0, 1, 1, 0, 1, 1, 1, 3, 1, 1, 0, 2, 0,\n",
       "       3, 1, 1, 3, 1, 1, 1, 1, 1, 0, 0, 1, 0, 3, 2, 1, 1, 3, 3, 1, 1, 2,\n",
       "       1, 1, 2, 1, 1, 1, 3, 0, 0, 1, 2, 1, 2, 1, 3, 1, 3, 0, 1, 3, 2, 2,\n",
       "       1, 2, 1, 3, 2, 2, 1, 2, 1, 1, 0, 1, 3, 2, 3, 1, 3, 0, 0, 1, 1, 2,\n",
       "       1, 0, 1, 2, 1, 1, 2, 1, 1, 1, 1, 1, 2, 2, 3, 1, 1, 1, 2, 0, 3, 1,\n",
       "       2, 3, 1, 2, 1, 3, 2, 1, 1, 3, 1, 2, 3, 2, 1, 3, 3, 1, 2, 3, 1, 1,\n",
       "       2, 1, 1, 1, 1, 2, 1, 3, 1, 1, 2, 3, 2, 1, 1, 1, 2, 1, 1, 0, 2, 3,\n",
       "       0, 3, 3, 0, 1, 1, 3, 3, 1, 0, 1, 2, 1, 1, 3, 2, 1, 0, 1, 1, 2, 1,\n",
       "       1, 0, 3, 3, 1, 1, 3, 2, 1, 0, 3, 0, 0, 2, 1, 1, 3, 1, 1, 2, 2, 0,\n",
       "       0, 1, 1, 0, 1, 3, 3, 0, 3, 2, 2, 1, 0, 1, 1, 0, 1, 1, 1, 0, 2, 1,\n",
       "       2, 2, 1, 2, 1, 1, 1, 3, 3, 2, 2, 2, 1, 1, 3, 0, 1, 1, 1, 0, 0, 1,\n",
       "       2, 1, 0, 2, 0, 1, 1, 1, 0, 1, 3, 1, 1, 0, 1, 1, 3, 2, 2, 3, 3, 2,\n",
       "       3, 2, 1, 2, 3, 1, 0, 1, 1, 2, 1, 3, 1, 1, 0, 1, 1, 1, 3, 2, 1, 2,\n",
       "       3, 0, 1, 3, 1, 1, 1, 1, 3, 1, 3, 1, 2, 1, 1, 1, 3, 2, 3, 1, 0, 3,\n",
       "       2, 1, 2, 3, 2, 2, 1, 1, 2, 3, 3, 1, 0, 0, 0, 1, 3, 0, 2, 1, 0, 2,\n",
       "       2, 1, 1, 1, 1, 1, 0, 1, 3, 1, 2, 0, 3, 0, 1, 1, 0, 1, 1, 2, 3, 3,\n",
       "       2, 2, 2, 1, 2, 2, 1, 0, 1, 2, 2, 1, 3, 1, 1, 2, 1, 1, 2, 2, 1, 1,\n",
       "       2, 2, 1, 1, 3, 2, 2, 2, 3, 1, 0, 2, 2, 1, 1, 2, 1, 1, 2, 1, 3, 3,\n",
       "       1, 2, 1, 3, 0, 3, 1, 2, 1, 0, 2, 1, 1, 0, 2, 2, 3, 3, 1, 2, 3, 0,\n",
       "       2, 1, 3, 1, 1, 1, 1, 3, 1, 1, 2, 3, 3, 0, 1, 0, 0, 2, 3, 1, 2, 2,\n",
       "       1, 2, 1, 1, 0, 2, 1, 1, 3, 2, 1, 1, 1, 2, 2, 2, 0, 1, 3, 1, 3, 2,\n",
       "       2, 2, 3, 2, 3, 1, 2, 1, 3, 1, 1, 3, 0, 0, 3, 0, 3, 1, 3, 2, 1, 0,\n",
       "       2, 3, 3, 3, 1, 2, 1, 3, 1, 3, 3, 3, 3, 3, 2, 2, 1, 0, 2, 3, 2, 1,\n",
       "       1, 0, 3, 3, 2, 1, 0, 3, 3, 1, 1, 0, 2, 0, 1, 0, 0, 1, 1, 1, 1, 2,\n",
       "       1, 2, 3, 1, 0, 0, 3, 1, 1, 3, 0, 3, 0, 1, 1, 3, 1, 0, 2, 1, 1, 0,\n",
       "       0, 0, 1, 1, 2, 1, 0, 1, 1, 1, 1, 1, 2, 1, 1, 3, 2, 3, 0, 1, 1, 0,\n",
       "       1, 0, 3, 1, 1, 1, 1, 2, 2, 0, 3, 2, 2, 1, 3, 1, 0, 2, 0, 0, 2, 1,\n",
       "       2, 0, 1, 2, 2, 1, 2, 1, 0, 1, 3, 0, 1, 3, 2, 2, 2, 1, 2, 3, 1, 2,\n",
       "       2, 2, 1, 2, 1, 3, 0, 1, 1, 3, 1, 1, 0, 0, 3, 1, 1, 3, 3, 0, 1, 1,\n",
       "       1, 0, 0, 3, 2, 2, 1, 1, 1, 0, 3, 1, 0, 0, 1, 3, 0, 0, 2, 2, 3, 0,\n",
       "       3, 0, 2, 3, 1, 2, 3, 2, 1, 1, 3, 2, 0, 1, 3, 3, 2, 2, 1, 1, 3, 1,\n",
       "       0, 0, 1, 1, 2, 1, 3, 2, 3, 1, 1, 1, 1, 1, 2, 0, 0, 3, 2, 1, 0, 2,\n",
       "       1, 0, 2, 3, 1, 1, 1, 2, 1, 3, 2, 3, 1, 1, 3, 3, 1, 1, 2, 3, 3])"
      ]
     },
     "execution_count": 30,
     "metadata": {},
     "output_type": "execute_result"
    }
   ],
   "source": [
    "kmeans.labels_"
   ]
  },
  {
   "cell_type": "code",
   "execution_count": 31,
   "metadata": {},
   "outputs": [
    {
     "data": {
      "text/plain": [
       "3333252.1229019524"
      ]
     },
     "execution_count": 31,
     "metadata": {},
     "output_type": "execute_result"
    }
   ],
   "source": [
    "kmeans.inertia_"
   ]
  },
  {
   "cell_type": "code",
   "execution_count": 34,
   "metadata": {},
   "outputs": [],
   "source": [
    "\n",
    "df_labels=pd.DataFrame(kmeans.labels_,columns=list(['labels']))\n",
    "\n",
    "df_labels['class']=df_labels['labels'].astype('category')\n",
    "df_k=pd.concat((df1,df_labels),axis=1,sort=False)\n",
    "df_k.head()\n",
    "df_k=pd.concat((df,df_labels),axis=1,sort=False)"
   ]
  },
  {
   "cell_type": "code",
   "execution_count": 35,
   "metadata": {},
   "outputs": [
    {
     "name": "stdout",
     "output_type": "stream",
     "text": [
      "For KMeans : \n",
      " 1.0    342\n",
      "2.0    180\n",
      "3.0    165\n",
      "0.0    126\n",
      "Name: labels, dtype: int64\n",
      "------------------------------\n",
      "For original data class : \n",
      " car    413\n",
      "bus    205\n",
      "van    195\n",
      "Name: class, dtype: int64\n",
      "------------------------------\n"
     ]
    }
   ],
   "source": [
    "print('For KMeans :','\\n',df_k['labels'].value_counts())\n",
    "print('-'*30)\n",
    "print('For original data class :','\\n',df['class'].value_counts())\n",
    "print('-'*30)"
   ]
  },
  {
   "cell_type": "code",
   "execution_count": null,
   "metadata": {},
   "outputs": [],
   "source": []
  }
 ],
 "metadata": {
  "colab": {
   "name": "R4_Internal_Lab_Clustering_SampleSolution.ipynb",
   "provenance": [],
   "version": "0.3.2"
  },
  "kernelspec": {
   "display_name": "Python 3",
   "language": "python",
   "name": "python3"
  },
  "language_info": {
   "codemirror_mode": {
    "name": "ipython",
    "version": 3
   },
   "file_extension": ".py",
   "mimetype": "text/x-python",
   "name": "python",
   "nbconvert_exporter": "python",
   "pygments_lexer": "ipython3",
   "version": "3.7.4"
  }
 },
 "nbformat": 4,
 "nbformat_minor": 1
}
